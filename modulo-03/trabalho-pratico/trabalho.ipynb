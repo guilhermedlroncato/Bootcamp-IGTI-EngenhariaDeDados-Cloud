{
 "cells": [
  {
   "cell_type": "code",
   "execution_count": 16,
   "metadata": {},
   "outputs": [],
   "source": [
    "from pyspark.sql import SparkSession\n",
    "import pyspark.sql.functions as f\n",
    "from pyspark.sql.types import *\n",
    "from pyspark.sql.window import Window"
   ]
  },
  {
   "cell_type": "code",
   "execution_count": 2,
   "metadata": {},
   "outputs": [],
   "source": [
    "import findspark\n",
    "\n",
    "findspark.init()"
   ]
  },
  {
   "cell_type": "code",
   "execution_count": 3,
   "metadata": {},
   "outputs": [],
   "source": [
    "# iniciando a sessão spark\n",
    "spark = SparkSession.builder.getOrCreate()"
   ]
  },
  {
   "cell_type": "markdown",
   "metadata": {},
   "source": [
    "## Carregando os Dataframe"
   ]
  },
  {
   "cell_type": "code",
   "execution_count": 4,
   "metadata": {},
   "outputs": [],
   "source": [
    "df_titles = spark.read.csv('./data/title_basics.tsv', header=True, sep='\\t')"
   ]
  },
  {
   "cell_type": "code",
   "execution_count": 5,
   "metadata": {},
   "outputs": [],
   "source": [
    "df_ratings = spark.read.csv('./data/title_ratings.tsv', header=True, sep='\\t')"
   ]
  },
  {
   "cell_type": "code",
   "execution_count": 6,
   "metadata": {},
   "outputs": [
    {
     "name": "stdout",
     "output_type": "stream",
     "text": [
      "root\n",
      " |-- tconst: string (nullable = true)\n",
      " |-- titleType: string (nullable = true)\n",
      " |-- primaryTitle: string (nullable = true)\n",
      " |-- originalTitle: string (nullable = true)\n",
      " |-- isAdult: string (nullable = true)\n",
      " |-- startYear: string (nullable = true)\n",
      " |-- endYear: string (nullable = true)\n",
      " |-- runtimeMinutes: string (nullable = true)\n",
      " |-- genres: string (nullable = true)\n",
      "\n"
     ]
    }
   ],
   "source": [
    "df_titles.printSchema()"
   ]
  },
  {
   "cell_type": "code",
   "execution_count": 7,
   "metadata": {},
   "outputs": [
    {
     "name": "stdout",
     "output_type": "stream",
     "text": [
      "root\n",
      " |-- tconst: string (nullable = true)\n",
      " |-- averageRating: string (nullable = true)\n",
      " |-- numVotes: string (nullable = true)\n",
      "\n"
     ]
    }
   ],
   "source": [
    "df_ratings.printSchema()"
   ]
  },
  {
   "cell_type": "code",
   "execution_count": 8,
   "metadata": {},
   "outputs": [
    {
     "name": "stdout",
     "output_type": "stream",
     "text": [
      "+-----+---+\n",
      "| nome| id|\n",
      "+-----+---+\n",
      "|Maria|  1|\n",
      "| Joao|  2|\n",
      "|Pedro|  3|\n",
      "|Clara|  4|\n",
      "+-----+---+\n",
      "\n"
     ]
    }
   ],
   "source": [
    "# Pergunta 3\n",
    "df1 = spark.createDataFrame([('Maria', 1), ('Joao', 2)], schema = 'nome STRING, id INTEGER')\n",
    "df2 = spark.createDataFrame([('Pedro', 3), ('Clara', 4)], schema = 'nome STRING, id INTEGER')\n",
    "df1.union(df2).show()"
   ]
  },
  {
   "cell_type": "code",
   "execution_count": 9,
   "metadata": {},
   "outputs": [
    {
     "name": "stdout",
     "output_type": "stream",
     "text": [
      "+---------+-------------+--------+\n",
      "|   tconst|averageRating|numVotes|\n",
      "+---------+-------------+--------+\n",
      "|tt0000001|          5.7|    1809|\n",
      "|tt0000002|          6.0|     233|\n",
      "|tt0000003|          6.5|    1560|\n",
      "|tt0000004|          6.1|     152|\n",
      "|tt0000005|          6.2|    2383|\n",
      "+---------+-------------+--------+\n",
      "only showing top 5 rows\n",
      "\n"
     ]
    }
   ],
   "source": [
    "df_ratings.show(5)"
   ]
  },
  {
   "cell_type": "code",
   "execution_count": 116,
   "metadata": {},
   "outputs": [
    {
     "name": "stdout",
     "output_type": "stream",
     "text": [
      "+---------+---------+--------------------+--------------------+-------+---------+-------+--------------+--------------------+\n",
      "|   tconst|titleType|        primaryTitle|       originalTitle|isAdult|startYear|endYear|runtimeMinutes|              genres|\n",
      "+---------+---------+--------------------+--------------------+-------+---------+-------+--------------+--------------------+\n",
      "|tt0000001|    short|          Carmencita|          Carmencita|      0|     1894|     \\N|             1|   Documentary,Short|\n",
      "|tt0000002|    short|Le clown et ses c...|Le clown et ses c...|      0|     1892|     \\N|             5|     Animation,Short|\n",
      "|tt0000003|    short|      Pauvre Pierrot|      Pauvre Pierrot|      0|     1892|     \\N|             4|Animation,Comedy,...|\n",
      "|tt0000004|    short|         Un bon bock|         Un bon bock|      0|     1892|     \\N|            12|     Animation,Short|\n",
      "|tt0000005|    short|    Blacksmith Scene|    Blacksmith Scene|      0|     1893|     \\N|             1|        Comedy,Short|\n",
      "|tt0000006|    short|   Chinese Opium Den|   Chinese Opium Den|      0|     1894|     \\N|             1|               Short|\n",
      "|tt0000007|    short|Corbett and Court...|Corbett and Court...|      0|     1894|     \\N|             1|         Short,Sport|\n",
      "|tt0000008|    short|Edison Kinetoscop...|Edison Kinetoscop...|      0|     1894|     \\N|             1|   Documentary,Short|\n",
      "|tt0000009|    short|          Miss Jerry|          Miss Jerry|      0|     1894|     \\N|            40|       Romance,Short|\n",
      "|tt0000010|    short| Leaving the Factory|La sortie de l'us...|      0|     1895|     \\N|             1|   Documentary,Short|\n",
      "+---------+---------+--------------------+--------------------+-------+---------+-------+--------------+--------------------+\n",
      "only showing top 10 rows\n",
      "\n"
     ]
    }
   ],
   "source": [
    "df_titles.show(10)"
   ]
  },
  {
   "cell_type": "code",
   "execution_count": 11,
   "metadata": {},
   "outputs": [
    {
     "name": "stdout",
     "output_type": "stream",
     "text": [
      "+------------+\n",
      "|   titleType|\n",
      "+------------+\n",
      "|    tvSeries|\n",
      "|tvMiniSeries|\n",
      "|     tvMovie|\n",
      "|     tvPilot|\n",
      "|   tvEpisode|\n",
      "|       movie|\n",
      "|   tvSpecial|\n",
      "|       video|\n",
      "|   videoGame|\n",
      "|     tvShort|\n",
      "|       short|\n",
      "| radioSeries|\n",
      "|radioEpisode|\n",
      "+------------+\n",
      "\n"
     ]
    }
   ],
   "source": [
    "df_titles\\\n",
    "    .select('titleType')\\\n",
    "    .distinct()\\\n",
    "    .show()"
   ]
  },
  {
   "cell_type": "code",
   "execution_count": 12,
   "metadata": {},
   "outputs": [
    {
     "data": {
      "text/plain": [
       "19987"
      ]
     },
     "execution_count": 12,
     "metadata": {},
     "output_type": "execute_result"
    }
   ],
   "source": [
    "\n",
    "# Pergunta 06\n",
    "df_titles\\\n",
    "    .filter((f.col('startYear').cast('Int') == 2015) & ((f.col('titleType') == 'movie') | (f.col('titleType') == 'tvMovie')))\\\n",
    "    .count()"
   ]
  },
  {
   "cell_type": "code",
   "execution_count": 13,
   "metadata": {},
   "outputs": [
    {
     "name": "stdout",
     "output_type": "stream",
     "text": [
      "+-----------+-------+\n",
      "|     genero|  count|\n",
      "+-----------+-------+\n",
      "|      Drama|2247995|\n",
      "|     Comedy|1653725|\n",
      "|      Short|1021850|\n",
      "|  Talk-Show| 900198|\n",
      "|Documentary| 764885|\n",
      "|    Romance| 724729|\n",
      "|         \\N| 643012|\n",
      "|     Family| 571470|\n",
      "|       News| 524662|\n",
      "| Reality-TV| 423455|\n",
      "|  Animation| 406284|\n",
      "|      Music| 394008|\n",
      "|      Crime| 351447|\n",
      "|     Action| 334580|\n",
      "|  Adventure| 324325|\n",
      "|  Game-Show| 252533|\n",
      "|      Adult| 242704|\n",
      "|      Sport| 178594|\n",
      "|    Fantasy| 174119|\n",
      "|    Mystery| 162448|\n",
      "+-----------+-------+\n",
      "only showing top 20 rows\n",
      "\n"
     ]
    }
   ],
   "source": [
    "# Pergunta 07\n",
    "df_titles\\\n",
    "    .withColumn('genero', f.explode(f.split(f.col('genres'), ',')))\\\n",
    "    .drop('genres')\\\n",
    "    .groupBy('genero')\\\n",
    "    .count()\\\n",
    "    .orderBy(f.desc('count'))\\\n",
    "    .show()"
   ]
  },
  {
   "cell_type": "code",
   "execution_count": 14,
   "metadata": {},
   "outputs": [
    {
     "name": "stdout",
     "output_type": "stream",
     "text": [
      "+-----------+------------------+\n",
      "|     genero|        Nota_Media|\n",
      "+-----------+------------------+\n",
      "|    History| 7.353780102645086|\n",
      "|Documentary| 7.240198535554575|\n",
      "|  Biography|  7.17553191489362|\n",
      "|    Mystery| 7.170086406897942|\n",
      "|      Crime|7.1598428684859385|\n",
      "|  Adventure| 7.107629703351738|\n",
      "|    Fantasy| 7.095145650845386|\n",
      "|  Animation| 7.089381171483224|\n",
      "|    Western| 7.080683426568711|\n",
      "|     Family|  7.07005492603448|\n",
      "|      Drama| 7.040979155040203|\n",
      "|        War|7.0091151344149205|\n",
      "|     Action|7.0070981387478835|\n",
      "|      Sport| 6.966792418526429|\n",
      "|     Comedy|6.9600165509184135|\n",
      "|      Music| 6.927469624015715|\n",
      "| Reality-TV| 6.892611170895967|\n",
      "|  Game-Show| 6.876828101904185|\n",
      "|    Romance| 6.864016164703973|\n",
      "|      Short| 6.791292438368555|\n",
      "+-----------+------------------+\n",
      "only showing top 20 rows\n",
      "\n"
     ]
    }
   ],
   "source": [
    "# Pergunta 08\n",
    "df_titles\\\n",
    "    .join(df_ratings, 'tconst')\\\n",
    "    .withColumn('genero', f.explode(f.split(f.col('genres'), ',')))\\\n",
    "    .drop('genres')\\\n",
    "    .groupBy('genero')\\\n",
    "    .agg(f.mean('averageRating').alias('Nota_Media'))\\\n",
    "    .orderBy(f.desc('Nota_Media'))\\\n",
    "    .show()"
   ]
  },
  {
   "cell_type": "code",
   "execution_count": 15,
   "metadata": {},
   "outputs": [
    {
     "name": "stdout",
     "output_type": "stream",
     "text": [
      "+--------------------+----------+\n",
      "|        primaryTitle|Nota_Media|\n",
      "+--------------------+----------+\n",
      "|     Half-Life: Alyx|       9.5|\n",
      "|   Ghost of Tsushima|       9.3|\n",
      "|               Omori|       9.2|\n",
      "|Ori and the Will ...|       9.1|\n",
      "|Final Fantasy VII...|       9.1|\n",
      "|Mega Man Zero/ZX ...|       8.9|\n",
      "|There Is No Game:...|       8.9|\n",
      "|Yakuza: Like a Dr...|       8.8|\n",
      "|Xenoblade Chronic...|       8.8|\n",
      "|       Demon's Souls|       8.8|\n",
      "+--------------------+----------+\n",
      "only showing top 10 rows\n",
      "\n"
     ]
    }
   ],
   "source": [
    "# Pergunta 09\n",
    "df_titles\\\n",
    "    .join(df_ratings, 'tconst')\\\n",
    "    .withColumn('genero', f.explode(f.split(f.col('genres'), ',')))\\\n",
    "    .drop('genres')\\\n",
    "    .filter(f.col('titleType') == 'videoGame')\\\n",
    "    .filter(f.col('genero') == 'Adventure')\\\n",
    "    .filter(f.col('startYear').cast('Int') == 2020)\\\n",
    "    .groupBy('primaryTitle')\\\n",
    "    .agg(f.max('averageRating').alias('Nota_Media'))\\\n",
    "    .orderBy(f.desc('Nota_Media'))\\\n",
    "    .show(10)"
   ]
  },
  {
   "cell_type": "code",
   "execution_count": 129,
   "metadata": {},
   "outputs": [
    {
     "name": "stdout",
     "output_type": "stream",
     "text": [
      "+------------------+\n",
      "|            comedy|\n",
      "+------------------+\n",
      "|19.592336989488967|\n",
      "+------------------+\n",
      "\n"
     ]
    }
   ],
   "source": [
    "# Pergunta 11\n",
    "df_titles\\\n",
    "   .filter(f.col('startYear').cast('Int') == 2018)\\\n",
    "   .withColumn('genres', f.explode(f.split('genres', ',')))\\\n",
    "   .withColumn('comedy', f.when(f.col('genres') == 'Comedy',1).otherwise(0))\\\n",
    "   .select(((f.sum(f.col('comedy')) / f.countDistinct(f.col('tconst'))) * 100).alias('comedy'))\\\n",
    "   .show(10)\n",
    "   "
   ]
  },
  {
   "cell_type": "code",
   "execution_count": 139,
   "metadata": {},
   "outputs": [
    {
     "data": {
      "text/plain": [
       "7021051"
      ]
     },
     "execution_count": 139,
     "metadata": {},
     "output_type": "execute_result"
    }
   ],
   "source": [
    "# Pergunta 13\n",
    "df_titles.join(df_ratings, 'tconst', 'anti').count() #7021051"
   ]
  },
  {
   "cell_type": "code",
   "execution_count": 147,
   "metadata": {},
   "outputs": [
    {
     "name": "stdout",
     "output_type": "stream",
     "text": [
      "+------------------+\n",
      "|     averageRating|\n",
      "+------------------+\n",
      "|24.899137999842086|\n",
      "+------------------+\n",
      "\n"
     ]
    }
   ],
   "source": [
    "# Pergunta 14\n",
    "def sqr_divide(value): \n",
    "\n",
    "    return (value**2)/2 \n",
    "\n",
    "sqr_divide_udf = f.udf(sqr_divide, DoubleType())\n",
    "\n",
    "df_ratings\\\n",
    "    .withColumn('averageRating', f.col('averageRating').cast('Double'))\\\n",
    "    .select(sqr_divide_udf('averageRating').alias('averageRating'))\\\n",
    "    .agg(f.mean('averageRating').alias('averageRating'))\\\n",
    "    .show(10)"
   ]
  }
 ],
 "metadata": {
  "interpreter": {
   "hash": "31f2aee4e71d21fbe5cf8b01ff0e069b9275f58929596ceb00d14d90e3e16cd6"
  },
  "kernelspec": {
   "display_name": "Python 3.8.10 64-bit",
   "name": "python3"
  },
  "language_info": {
   "codemirror_mode": {
    "name": "ipython",
    "version": 3
   },
   "file_extension": ".py",
   "mimetype": "text/x-python",
   "name": "python",
   "nbconvert_exporter": "python",
   "pygments_lexer": "ipython3",
   "version": "3.8.10"
  },
  "orig_nbformat": 4
 },
 "nbformat": 4,
 "nbformat_minor": 2
}
