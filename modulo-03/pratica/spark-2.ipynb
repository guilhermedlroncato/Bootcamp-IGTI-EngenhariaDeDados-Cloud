{
 "cells": [
  {
   "cell_type": "code",
   "execution_count": 1,
   "metadata": {},
   "outputs": [],
   "source": [
    "from pyspark.sql import SparkSession\n",
    "from pyspark.sql.functions import col, round, upper, desc, asc, asc_nulls_last, asc_nulls_first, desc_nulls_first, desc_nulls_last, lit, when\n",
    "from pyspark.sql.types import *"
   ]
  },
  {
   "cell_type": "code",
   "execution_count": 2,
   "metadata": {},
   "outputs": [],
   "source": [
    "import findspark\n",
    "\n",
    "findspark.init()"
   ]
  },
  {
   "cell_type": "code",
   "execution_count": 3,
   "metadata": {},
   "outputs": [],
   "source": [
    "spark = SparkSession.builder.getOrCreate()"
   ]
  },
  {
   "cell_type": "markdown",
   "metadata": {},
   "source": [
    "## Criando Data Fram usando csv"
   ]
  },
  {
   "cell_type": "code",
   "execution_count": 4,
   "metadata": {},
   "outputs": [],
   "source": [
    "schema = 'registro_ancine INTEGER,\\\n",
    "          razao_social STRING,\\\n",
    "          cnpj STRING,\\\n",
    "          atividade_economica STRING,\\\n",
    "          classificacao_atividade STRING'"
   ]
  },
  {
   "cell_type": "code",
   "execution_count": 5,
   "metadata": {},
   "outputs": [],
   "source": [
    "df = spark.read.format('csv')\\\n",
    "               .option('header', True)\\\n",
    "               .option('sep', ';')\\\n",
    "               .option('encoding', 'ISO-8859-1')\\\n",
    "               .schema(schema)\\\n",
    "               .load('./data/cnae.csv')"
   ]
  },
  {
   "cell_type": "code",
   "execution_count": 6,
   "metadata": {},
   "outputs": [
    {
     "name": "stdout",
     "output_type": "stream",
     "text": [
      "96704\n"
     ]
    }
   ],
   "source": [
    "print(df.count())"
   ]
  },
  {
   "cell_type": "code",
   "execution_count": 8,
   "metadata": {},
   "outputs": [],
   "source": [
    "options_dict = {\n",
    "    'encoding': 'ISO-8859-1',\n",
    "    'sep': ';',\n",
    "    'escape': '\\'',\n",
    "    'format': 'csv'\n",
    "}\n",
    "\n",
    "df = spark.read.options(**options_dict)\\\n",
    "               .schema(schema)\\\n",
    "               .load('./data/cnae.csv')"
   ]
  },
  {
   "cell_type": "code",
   "execution_count": 9,
   "metadata": {},
   "outputs": [
    {
     "name": "stdout",
     "output_type": "stream",
     "text": [
      "root\n",
      " |-- registro_ancine: integer (nullable = true)\n",
      " |-- razao_social: string (nullable = true)\n",
      " |-- cnpj: string (nullable = true)\n",
      " |-- atividade_economica: string (nullable = true)\n",
      " |-- classificacao_atividade: string (nullable = true)\n",
      "\n"
     ]
    }
   ],
   "source": [
    "df.printSchema()"
   ]
  },
  {
   "cell_type": "code",
   "execution_count": 7,
   "metadata": {},
   "outputs": [
    {
     "name": "stdout",
     "output_type": "stream",
     "text": [
      "+---------------+--------------------+------------------+--------------------+-----------------------+\n",
      "|registro_ancine|        razao_social|              cnpj| atividade_economica|classificacao_atividade|\n",
      "+---------------+--------------------+------------------+--------------------+-----------------------+\n",
      "|             10|CONSPIRAÇÃO FILME...|02.020.661/0001-04|Atividades de pro...|              PRINCIPAL|\n",
      "|             10|CONSPIRAÇÃO FILME...|02.020.661/0001-04|Estúdios cinemato...|             SECUNDARIA|\n",
      "|            100|RADAR CINEMA E TE...|02.947.857/0001-49|Atividades de pro...|              PRINCIPAL|\n",
      "|            100|RADAR CINEMA E TE...|02.947.857/0001-49|Atividades de int...|             SECUNDARIA|\n",
      "|            100|RADAR CINEMA E TE...|02.947.857/0001-49|Atividades de pós...|             SECUNDARIA|\n",
      "+---------------+--------------------+------------------+--------------------+-----------------------+\n",
      "only showing top 5 rows\n",
      "\n"
     ]
    }
   ],
   "source": [
    "df.show(5)"
   ]
  },
  {
   "cell_type": "markdown",
   "metadata": {},
   "source": [
    "## Salvando o DF em JSON"
   ]
  },
  {
   "cell_type": "code",
   "execution_count": 8,
   "metadata": {},
   "outputs": [
    {
     "ename": "AnalysisException",
     "evalue": "path file:/home/guilherme/Cursos/Bootcamp_IGTI_Engenheiro_de_Dados_CLOUD/modulo-03/pratica/data/cnae.json already exists.",
     "output_type": "error",
     "traceback": [
      "\u001b[0;31m---------------------------------------------------------------------------\u001b[0m",
      "\u001b[0;31mAnalysisException\u001b[0m                         Traceback (most recent call last)",
      "\u001b[0;32m<ipython-input-8-dde2688e3c06>\u001b[0m in \u001b[0;36m<module>\u001b[0;34m\u001b[0m\n\u001b[0;32m----> 1\u001b[0;31m \u001b[0mdf\u001b[0m\u001b[0;34m.\u001b[0m\u001b[0mwrite\u001b[0m\u001b[0;34m.\u001b[0m\u001b[0mformat\u001b[0m\u001b[0;34m(\u001b[0m\u001b[0;34m'json'\u001b[0m\u001b[0;34m)\u001b[0m\u001b[0;34m.\u001b[0m\u001b[0msave\u001b[0m\u001b[0;34m(\u001b[0m\u001b[0;34m'./data/cnae.json'\u001b[0m\u001b[0;34m)\u001b[0m\u001b[0;34m\u001b[0m\u001b[0;34m\u001b[0m\u001b[0m\n\u001b[0m",
      "\u001b[0;32m~/.local/lib/python3.8/site-packages/pyspark/sql/readwriter.py\u001b[0m in \u001b[0;36msave\u001b[0;34m(self, path, format, mode, partitionBy, **options)\u001b[0m\n\u001b[1;32m   1107\u001b[0m             \u001b[0mself\u001b[0m\u001b[0;34m.\u001b[0m\u001b[0m_jwrite\u001b[0m\u001b[0;34m.\u001b[0m\u001b[0msave\u001b[0m\u001b[0;34m(\u001b[0m\u001b[0;34m)\u001b[0m\u001b[0;34m\u001b[0m\u001b[0;34m\u001b[0m\u001b[0m\n\u001b[1;32m   1108\u001b[0m         \u001b[0;32melse\u001b[0m\u001b[0;34m:\u001b[0m\u001b[0;34m\u001b[0m\u001b[0;34m\u001b[0m\u001b[0m\n\u001b[0;32m-> 1109\u001b[0;31m             \u001b[0mself\u001b[0m\u001b[0;34m.\u001b[0m\u001b[0m_jwrite\u001b[0m\u001b[0;34m.\u001b[0m\u001b[0msave\u001b[0m\u001b[0;34m(\u001b[0m\u001b[0mpath\u001b[0m\u001b[0;34m)\u001b[0m\u001b[0;34m\u001b[0m\u001b[0;34m\u001b[0m\u001b[0m\n\u001b[0m\u001b[1;32m   1110\u001b[0m \u001b[0;34m\u001b[0m\u001b[0m\n\u001b[1;32m   1111\u001b[0m     \u001b[0;34m@\u001b[0m\u001b[0msince\u001b[0m\u001b[0;34m(\u001b[0m\u001b[0;36m1.4\u001b[0m\u001b[0;34m)\u001b[0m\u001b[0;34m\u001b[0m\u001b[0;34m\u001b[0m\u001b[0m\n",
      "\u001b[0;32m~/.local/lib/python3.8/site-packages/py4j/java_gateway.py\u001b[0m in \u001b[0;36m__call__\u001b[0;34m(self, *args)\u001b[0m\n\u001b[1;32m   1302\u001b[0m \u001b[0;34m\u001b[0m\u001b[0m\n\u001b[1;32m   1303\u001b[0m         \u001b[0manswer\u001b[0m \u001b[0;34m=\u001b[0m \u001b[0mself\u001b[0m\u001b[0;34m.\u001b[0m\u001b[0mgateway_client\u001b[0m\u001b[0;34m.\u001b[0m\u001b[0msend_command\u001b[0m\u001b[0;34m(\u001b[0m\u001b[0mcommand\u001b[0m\u001b[0;34m)\u001b[0m\u001b[0;34m\u001b[0m\u001b[0;34m\u001b[0m\u001b[0m\n\u001b[0;32m-> 1304\u001b[0;31m         return_value = get_return_value(\n\u001b[0m\u001b[1;32m   1305\u001b[0m             answer, self.gateway_client, self.target_id, self.name)\n\u001b[1;32m   1306\u001b[0m \u001b[0;34m\u001b[0m\u001b[0m\n",
      "\u001b[0;32m~/.local/lib/python3.8/site-packages/pyspark/sql/utils.py\u001b[0m in \u001b[0;36mdeco\u001b[0;34m(*a, **kw)\u001b[0m\n\u001b[1;32m    115\u001b[0m                 \u001b[0;31m# Hide where the exception came from that shows a non-Pythonic\u001b[0m\u001b[0;34m\u001b[0m\u001b[0;34m\u001b[0m\u001b[0;34m\u001b[0m\u001b[0m\n\u001b[1;32m    116\u001b[0m                 \u001b[0;31m# JVM exception message.\u001b[0m\u001b[0;34m\u001b[0m\u001b[0;34m\u001b[0m\u001b[0;34m\u001b[0m\u001b[0m\n\u001b[0;32m--> 117\u001b[0;31m                 \u001b[0;32mraise\u001b[0m \u001b[0mconverted\u001b[0m \u001b[0;32mfrom\u001b[0m \u001b[0;32mNone\u001b[0m\u001b[0;34m\u001b[0m\u001b[0;34m\u001b[0m\u001b[0m\n\u001b[0m\u001b[1;32m    118\u001b[0m             \u001b[0;32melse\u001b[0m\u001b[0;34m:\u001b[0m\u001b[0;34m\u001b[0m\u001b[0;34m\u001b[0m\u001b[0m\n\u001b[1;32m    119\u001b[0m                 \u001b[0;32mraise\u001b[0m\u001b[0;34m\u001b[0m\u001b[0;34m\u001b[0m\u001b[0m\n",
      "\u001b[0;31mAnalysisException\u001b[0m: path file:/home/guilherme/Cursos/Bootcamp_IGTI_Engenheiro_de_Dados_CLOUD/modulo-03/pratica/data/cnae.json already exists."
     ]
    }
   ],
   "source": [
    "df.write.format('json').save('./data/cnae.json')"
   ]
  },
  {
   "cell_type": "code",
   "execution_count": null,
   "metadata": {},
   "outputs": [],
   "source": [
    "df_json = spark.read.format('json')\\\n",
    "                    .load('./data/cnae.json')"
   ]
  },
  {
   "cell_type": "code",
   "execution_count": null,
   "metadata": {},
   "outputs": [
    {
     "name": "stdout",
     "output_type": "stream",
     "text": [
      "root\n",
      " |-- atividade_economica: string (nullable = true)\n",
      " |-- classificacao_atividade: string (nullable = true)\n",
      " |-- cnpj: string (nullable = true)\n",
      " |-- razao_social: string (nullable = true)\n",
      " |-- registro_ancine: long (nullable = true)\n",
      "\n"
     ]
    }
   ],
   "source": [
    "df_json.printSchema()"
   ]
  },
  {
   "cell_type": "code",
   "execution_count": null,
   "metadata": {},
   "outputs": [
    {
     "name": "stdout",
     "output_type": "stream",
     "text": [
      "+--------------------+-----------------------+------------------+--------------------+---------------+\n",
      "| atividade_economica|classificacao_atividade|              cnpj|        razao_social|registro_ancine|\n",
      "+--------------------+-----------------------+------------------+--------------------+---------------+\n",
      "|Impressão de mate...|             SECUNDARIA|22.799.456/0001-04|APC SERVIÇOS DE P...|          43658|\n",
      "|Impressão de mate...|             SECUNDARIA|22.799.456/0001-04|APC SERVIÇOS DE P...|          43658|\n",
      "|Serviços de acaba...|             SECUNDARIA|22.799.456/0001-04|APC SERVIÇOS DE P...|          43658|\n",
      "|Atividades de pós...|              PRINCIPAL|33.508.812/0001-00|RICARDO ARISTEU A...|          43659|\n",
      "|Atividades de pro...|             SECUNDARIA|33.508.812/0001-00|RICARDO ARISTEU A...|          43659|\n",
      "+--------------------+-----------------------+------------------+--------------------+---------------+\n",
      "only showing top 5 rows\n",
      "\n"
     ]
    }
   ],
   "source": [
    "df_json.show(5)"
   ]
  },
  {
   "cell_type": "code",
   "execution_count": null,
   "metadata": {},
   "outputs": [
    {
     "data": {
      "text/plain": [
       "96704"
      ]
     },
     "execution_count": 34,
     "metadata": {},
     "output_type": "execute_result"
    }
   ],
   "source": [
    "df_json.count()"
   ]
  },
  {
   "cell_type": "markdown",
   "metadata": {},
   "source": [
    "## Salvando o DF em ORC"
   ]
  },
  {
   "cell_type": "code",
   "execution_count": null,
   "metadata": {},
   "outputs": [],
   "source": [
    "df.write.format('orc').save('./data/cnae.orc')"
   ]
  },
  {
   "cell_type": "code",
   "execution_count": null,
   "metadata": {},
   "outputs": [],
   "source": [
    "df_orc = spark.read.format('orc')\\\n",
    "                   .load('./data/cnae.orc')"
   ]
  },
  {
   "cell_type": "code",
   "execution_count": null,
   "metadata": {},
   "outputs": [
    {
     "name": "stdout",
     "output_type": "stream",
     "text": [
      "root\n",
      " |-- registro_ancine: integer (nullable = true)\n",
      " |-- razao_social: string (nullable = true)\n",
      " |-- cnpj: string (nullable = true)\n",
      " |-- atividade_economica: string (nullable = true)\n",
      " |-- classificacao_atividade: string (nullable = true)\n",
      "\n"
     ]
    }
   ],
   "source": [
    "df_orc.printSchema()"
   ]
  },
  {
   "cell_type": "markdown",
   "metadata": {},
   "source": [
    "## Salvando o DF em parquet"
   ]
  },
  {
   "cell_type": "code",
   "execution_count": null,
   "metadata": {},
   "outputs": [],
   "source": [
    "df.write.format('parquet').save('./data/cnae.parquet')"
   ]
  },
  {
   "cell_type": "code",
   "execution_count": null,
   "metadata": {},
   "outputs": [],
   "source": [
    "df_parquet = spark.read.format('parquet')\\\n",
    "                       .load('./data/cnae.parquet')"
   ]
  },
  {
   "cell_type": "code",
   "execution_count": null,
   "metadata": {},
   "outputs": [
    {
     "name": "stdout",
     "output_type": "stream",
     "text": [
      "root\n",
      " |-- registro_ancine: integer (nullable = true)\n",
      " |-- razao_social: string (nullable = true)\n",
      " |-- cnpj: string (nullable = true)\n",
      " |-- atividade_economica: string (nullable = true)\n",
      " |-- classificacao_atividade: string (nullable = true)\n",
      "\n"
     ]
    }
   ],
   "source": [
    "df_parquet.printSchema()"
   ]
  },
  {
   "cell_type": "code",
   "execution_count": null,
   "metadata": {},
   "outputs": [
    {
     "name": "stdout",
     "output_type": "stream",
     "text": [
      "+---------------+--------------------+------------------+--------------------+-----------------------+\n",
      "|registro_ancine|        razao_social|              cnpj| atividade_economica|classificacao_atividade|\n",
      "+---------------+--------------------+------------------+--------------------+-----------------------+\n",
      "|          34777|TELEOBJETIVA ESTU...|18.260.028/0001-23|Atividades de pro...|              PRINCIPAL|\n",
      "|          34777|TELEOBJETIVA ESTU...|18.260.028/0001-23|Atividades de pro...|             SECUNDARIA|\n",
      "|          34777|TELEOBJETIVA ESTU...|18.260.028/0001-23|Outras atividades...|             SECUNDARIA|\n",
      "|          34777|TELEOBJETIVA ESTU...|18.260.028/0001-23|Produção de filme...|             SECUNDARIA|\n",
      "|          34779|AGENCIA DE DESENV...|21.542.573/0001-17|Atividades de ass...|              PRINCIPAL|\n",
      "+---------------+--------------------+------------------+--------------------+-----------------------+\n",
      "only showing top 5 rows\n",
      "\n"
     ]
    }
   ],
   "source": [
    "df_parquet.show(5)"
   ]
  },
  {
   "cell_type": "markdown",
   "metadata": {},
   "source": [
    "## Manipulação de Dados"
   ]
  },
  {
   "cell_type": "code",
   "execution_count": null,
   "metadata": {},
   "outputs": [],
   "source": [
    "df_titles = spark.read.format('csv')\\\n",
    "                      .option(\"header\", \"true\")\\\n",
    "                      .option('sep', '\\t')\\\n",
    "                      .option('inferSchema', 'true')\\\n",
    "                      .load('./data/title_basics')"
   ]
  },
  {
   "cell_type": "code",
   "execution_count": null,
   "metadata": {},
   "outputs": [
    {
     "name": "stdout",
     "output_type": "stream",
     "text": [
      "root\n",
      " |-- tconst: string (nullable = true)\n",
      " |-- titleType: string (nullable = true)\n",
      " |-- primaryTitle: string (nullable = true)\n",
      " |-- originalTitle: string (nullable = true)\n",
      " |-- isAdult: string (nullable = true)\n",
      " |-- startYear: string (nullable = true)\n",
      " |-- endYear: string (nullable = true)\n",
      " |-- runtimeMinutes: string (nullable = true)\n",
      " |-- genres: string (nullable = true)\n",
      "\n"
     ]
    }
   ],
   "source": [
    "df_titles.printSchema()"
   ]
  },
  {
   "cell_type": "code",
   "execution_count": null,
   "metadata": {},
   "outputs": [
    {
     "name": "stdout",
     "output_type": "stream",
     "text": [
      "+---------+---------+--------------------+--------------------+-------+---------+-------+--------------+--------------------+\n",
      "|   tconst|titleType|        primaryTitle|       originalTitle|isAdult|startYear|endYear|runtimeMinutes|              genres|\n",
      "+---------+---------+--------------------+--------------------+-------+---------+-------+--------------+--------------------+\n",
      "|tt0000001|    short|          Carmencita|          Carmencita|      0|     1894|     \\N|             1|   Documentary,Short|\n",
      "|tt0000002|    short|Le clown et ses c...|Le clown et ses c...|      0|     1892|     \\N|             5|     Animation,Short|\n",
      "|tt0000003|    short|      Pauvre Pierrot|      Pauvre Pierrot|      0|     1892|     \\N|             4|Animation,Comedy,...|\n",
      "|tt0000004|    short|         Un bon bock|         Un bon bock|      0|     1892|     \\N|            12|     Animation,Short|\n",
      "|tt0000005|    short|    Blacksmith Scene|    Blacksmith Scene|      0|     1893|     \\N|             1|        Comedy,Short|\n",
      "+---------+---------+--------------------+--------------------+-------+---------+-------+--------------+--------------------+\n",
      "only showing top 5 rows\n",
      "\n"
     ]
    }
   ],
   "source": [
    "df_titles.show(5)"
   ]
  },
  {
   "cell_type": "code",
   "execution_count": null,
   "metadata": {},
   "outputs": [
    {
     "data": {
      "text/plain": [
       "8364115"
      ]
     },
     "execution_count": 58,
     "metadata": {},
     "output_type": "execute_result"
    }
   ],
   "source": [
    "df_titles.count()"
   ]
  },
  {
   "cell_type": "code",
   "execution_count": null,
   "metadata": {},
   "outputs": [
    {
     "name": "stdout",
     "output_type": "stream",
     "text": [
      "+---------+--------------------+--------------+-----------+\n",
      "|   tconst|        primaryTitle|runtimeMinutes|runtimeHour|\n",
      "+---------+--------------------+--------------+-----------+\n",
      "|tt0000001|          Carmencita|             1|      0.017|\n",
      "|tt0000002|Le clown et ses c...|             5|      0.083|\n",
      "|tt0000003|      Pauvre Pierrot|             4|      0.067|\n",
      "|tt0000004|         Un bon bock|            12|        0.2|\n",
      "|tt0000005|    Blacksmith Scene|             1|      0.017|\n",
      "+---------+--------------------+--------------+-----------+\n",
      "only showing top 5 rows\n",
      "\n"
     ]
    }
   ],
   "source": [
    "df_titles.select('tconst', 'primaryTitle', 'runtimeMinutes')\\\n",
    "         .withColumn('runtimeHour', round(col('runtimeMinutes').cast('Int') / 60, 3))\\\n",
    "         .show(5)"
   ]
  },
  {
   "cell_type": "code",
   "execution_count": null,
   "metadata": {},
   "outputs": [
    {
     "name": "stdout",
     "output_type": "stream",
     "text": [
      "+---------+--------------------+--------------+-----------+----------------+\n",
      "|   tconst|        primaryTitle|runtimeMinutes|runtimeHour|runtimeHoursPlus|\n",
      "+---------+--------------------+--------------+-----------+----------------+\n",
      "|tt0000001|          Carmencita|             1|      0.017|           2.017|\n",
      "|tt0000002|Le clown et ses c...|             5|      0.083|           2.083|\n",
      "|tt0000003|      Pauvre Pierrot|             4|      0.067|           2.067|\n",
      "|tt0000004|         Un bon bock|            12|        0.2|             2.2|\n",
      "|tt0000005|    Blacksmith Scene|             1|      0.017|           2.017|\n",
      "+---------+--------------------+--------------+-----------+----------------+\n",
      "only showing top 5 rows\n",
      "\n"
     ]
    }
   ],
   "source": [
    "df_titles.select('tconst', 'primaryTitle', 'runtimeMinutes')\\\n",
    "         .withColumn('runtimeHour', round(col('runtimeMinutes').cast('Int') / 60, 3))\\\n",
    "         .withColumn('runtimeHoursPlus', col('runtimeHour') + 2)\\\n",
    "         .show(5)"
   ]
  },
  {
   "cell_type": "markdown",
   "metadata": {},
   "source": [
    "## Seleção de Colunas"
   ]
  },
  {
   "cell_type": "code",
   "execution_count": null,
   "metadata": {},
   "outputs": [
    {
     "data": {
      "text/plain": [
       "['tconst',\n",
       " 'titleType',\n",
       " 'primaryTitle',\n",
       " 'originalTitle',\n",
       " 'isAdult',\n",
       " 'startYear',\n",
       " 'endYear',\n",
       " 'runtimeMinutes',\n",
       " 'genres']"
      ]
     },
     "execution_count": 75,
     "metadata": {},
     "output_type": "execute_result"
    }
   ],
   "source": [
    "df_titles.columns"
   ]
  },
  {
   "cell_type": "code",
   "execution_count": null,
   "metadata": {},
   "outputs": [
    {
     "name": "stdout",
     "output_type": "stream",
     "text": [
      "+---------+--------------------+--------------------+\n",
      "|   tconst|        primaryTitle|              genres|\n",
      "+---------+--------------------+--------------------+\n",
      "|tt0000001|          Carmencita|   Documentary,Short|\n",
      "|tt0000002|Le clown et ses c...|     Animation,Short|\n",
      "|tt0000003|      Pauvre Pierrot|Animation,Comedy,...|\n",
      "|tt0000004|         Un bon bock|     Animation,Short|\n",
      "|tt0000005|    Blacksmith Scene|        Comedy,Short|\n",
      "+---------+--------------------+--------------------+\n",
      "only showing top 5 rows\n",
      "\n"
     ]
    }
   ],
   "source": [
    "df_titles.select('tconst', 'primaryTitle', 'genres').show(5)"
   ]
  },
  {
   "cell_type": "code",
   "execution_count": null,
   "metadata": {},
   "outputs": [
    {
     "name": "stdout",
     "output_type": "stream",
     "text": [
      "+---------+--------------------+--------------------+\n",
      "|   tconst|        primaryTitle|              genres|\n",
      "+---------+--------------------+--------------------+\n",
      "|tt0000001|          Carmencita|   Documentary,Short|\n",
      "|tt0000002|Le clown et ses c...|     Animation,Short|\n",
      "|tt0000003|      Pauvre Pierrot|Animation,Comedy,...|\n",
      "|tt0000004|         Un bon bock|     Animation,Short|\n",
      "|tt0000005|    Blacksmith Scene|        Comedy,Short|\n",
      "+---------+--------------------+--------------------+\n",
      "only showing top 5 rows\n",
      "\n"
     ]
    }
   ],
   "source": [
    "cols = ['tconst', 'primaryTitle', 'genres']\n",
    "df_titles.select(cols).show(5)"
   ]
  },
  {
   "cell_type": "code",
   "execution_count": null,
   "metadata": {},
   "outputs": [
    {
     "name": "stdout",
     "output_type": "stream",
     "text": [
      "+---------+--------------------+--------------------+\n",
      "|   tconst|        primaryTitle|        genres_upper|\n",
      "+---------+--------------------+--------------------+\n",
      "|tt0000001|          Carmencita|   DOCUMENTARY,SHORT|\n",
      "|tt0000002|Le clown et ses c...|     ANIMATION,SHORT|\n",
      "|tt0000003|      Pauvre Pierrot|ANIMATION,COMEDY,...|\n",
      "|tt0000004|         Un bon bock|     ANIMATION,SHORT|\n",
      "|tt0000005|    Blacksmith Scene|        COMEDY,SHORT|\n",
      "+---------+--------------------+--------------------+\n",
      "only showing top 5 rows\n",
      "\n"
     ]
    }
   ],
   "source": [
    "df_titles.select('tconst', 'primaryTitle', upper('genres').alias('genres_upper')).show(5)"
   ]
  },
  {
   "cell_type": "code",
   "execution_count": null,
   "metadata": {},
   "outputs": [
    {
     "name": "stdout",
     "output_type": "stream",
     "text": [
      "+---------+\n",
      "|startYear|\n",
      "+---------+\n",
      "|     1903|\n",
      "|     1953|\n",
      "|     1897|\n",
      "|     1957|\n",
      "|     1987|\n",
      "|     1956|\n",
      "|     1936|\n",
      "|     2016|\n",
      "|     2020|\n",
      "|     2012|\n",
      "|     1958|\n",
      "|     1910|\n",
      "|     1943|\n",
      "|     1915|\n",
      "|     1972|\n",
      "|     1931|\n",
      "|     2026|\n",
      "|     1911|\n",
      "|     1926|\n",
      "|     1938|\n",
      "+---------+\n",
      "only showing top 20 rows\n",
      "\n"
     ]
    }
   ],
   "source": [
    "df_titles.select('startYear').distinct().show()"
   ]
  },
  {
   "cell_type": "code",
   "execution_count": null,
   "metadata": {},
   "outputs": [
    {
     "name": "stdout",
     "output_type": "stream",
     "text": [
      "+---------+---------+--------------------+--------------------+-------+---------+-------+--------------+--------------------+\n",
      "|   tconst|titleType|        primaryTitle|       originalTitle|isAdult|startYear|endYear|runtimeMinutes|              genres|\n",
      "+---------+---------+--------------------+--------------------+-------+---------+-------+--------------+--------------------+\n",
      "|tt0000033|    short|  Horse Trick Riders|          La voltige|      0|     1895|     \\N|             1|Comedy,Documentar...|\n",
      "|tt0000132|    short|          Card Party|Une partie de cartes|      0|     1896|     \\N|             1|     Biography,Short|\n",
      "|tt0214902|    short|        The Magician|         Le magicien|      0|     1898|     \\N|             1|Fantasy,Horror,Short|\n",
      "|tt0225248|    short|Canada Vignettes:...|Canada Vignettes:...|      0|     1979|     \\N|             1|     Animation,Short|\n",
      "|tt0245776|    short|       The Biter Bit|       The Biter Bit|      0|     1899|     \\N|             1|        Comedy,Short|\n",
      "|tt0295663|    short|Tommy Atkins in t...|Tommy Atkins in t...|      0|     1898|     \\N|             1|        Comedy,Short|\n",
      "|tt0311161|    short|            Le frigo|            Le frigo|      0|     2001|     \\N|             1|     Animation,Short|\n",
      "|tt0312017|    short|What Happened on ...|What Happened on ...|      0|     1901|     \\N|             1|        Comedy,Short|\n",
      "|tt0411830|    short|      Saying Goodbye|      Saying Goodbye|      0|     2004|     \\N|             1|Animation,Drama,M...|\n",
      "|tt0483112|    short|               Pbl 2|               Pbl 2|      0|     1968|     \\N|             1|               Short|\n",
      "+---------+---------+--------------------+--------------------+-------+---------+-------+--------------+--------------------+\n",
      "only showing top 10 rows\n",
      "\n"
     ]
    }
   ],
   "source": [
    "df_titles.dropDuplicates().show(10)"
   ]
  },
  {
   "cell_type": "code",
   "execution_count": null,
   "metadata": {},
   "outputs": [
    {
     "name": "stdout",
     "output_type": "stream",
     "text": [
      "+---------+---------+--------------------+--------------------+-------+---------+-------+--------------+--------------------+\n",
      "|   tconst|titleType|        primaryTitle|       originalTitle|isAdult|startYear|endYear|runtimeMinutes|              genres|\n",
      "+---------+---------+--------------------+--------------------+-------+---------+-------+--------------+--------------------+\n",
      "|tt0000502|    movie|            Bohemios|            Bohemios|      0|     1905|     \\N|           100|                  \\N|\n",
      "|tt0000574|    movie|The Story of the ...|The Story of the ...|      0|     1906|     \\N|            70|Action,Adventure,...|\n",
      "|tt0000591|    movie|    The Prodigal Son|   L'enfant prodigue|      0|     1907|     \\N|            90|               Drama|\n",
      "|tt0000615|    movie|  Robbery Under Arms|  Robbery Under Arms|      0|     1907|     \\N|            \\N|               Drama|\n",
      "|tt0000630|    movie|              Hamlet|              Amleto|      0|     1908|     \\N|            \\N|               Drama|\n",
      "|tt0000675|    movie|         Don Quijote|         Don Quijote|      0|     1908|     \\N|            \\N|               Drama|\n",
      "|tt0000679|    movie|The Fairylogue an...|The Fairylogue an...|      0|     1908|     \\N|           120|   Adventure,Fantasy|\n",
      "|tt0000739|    movie|El pastorcito de ...|El pastorcito de ...|      0|     1908|     \\N|            \\N|               Drama|\n",
      "|tt0000793|    movie|       Andreas Hofer|       Andreas Hofer|      0|     1909|     \\N|            \\N|               Drama|\n",
      "|tt0000814|    movie|La bocana de Mar ...|La bocana de Mar ...|      0|     1909|     \\N|            \\N|                  \\N|\n",
      "+---------+---------+--------------------+--------------------+-------+---------+-------+--------------+--------------------+\n",
      "only showing top 10 rows\n",
      "\n"
     ]
    }
   ],
   "source": [
    "df_titles.filter(col('titleType') == 'movie').show(10)"
   ]
  },
  {
   "cell_type": "code",
   "execution_count": null,
   "metadata": {},
   "outputs": [
    {
     "name": "stdout",
     "output_type": "stream",
     "text": [
      "+---------+---------+--------------------+--------------------+-------+---------+-------+--------------+--------------------+\n",
      "|   tconst|titleType|        primaryTitle|       originalTitle|isAdult|startYear|endYear|runtimeMinutes|              genres|\n",
      "+---------+---------+--------------------+--------------------+-------+---------+-------+--------------+--------------------+\n",
      "|tt0000574|    movie|The Story of the ...|The Story of the ...|      0|     1906|     \\N|            70|Action,Adventure,...|\n",
      "|tt0001184|    movie|Don Juan de Serra...|Don Juan de Serra...|      0|     1910|     \\N|            58|     Adventure,Drama|\n",
      "|tt0001258|    movie|The White Slave T...|Den hvide slaveha...|      0|     1910|     \\N|            45|               Drama|\n",
      "|tt0001285|    movie|   The Life of Moses|   The Life of Moses|      0|     1909|     \\N|            50|Biography,Drama,F...|\n",
      "|tt0001498|    movie|The Battle of Tra...|The Battle of Tra...|      0|     1911|     \\N|            51|                 War|\n",
      "|tt0001592|    movie|In the Prime of Life|       Ekspeditricen|      0|     1911|     \\N|            52|               Drama|\n",
      "|tt0001630|    movie|    Der fremde Vogel|    Der fremde Vogel|      0|     1911|     \\N|            45|                  \\N|\n",
      "|tt0001790|    movie|Les Misérables, P...|Les misérables - ...|      0|     1913|     \\N|            60|               Drama|\n",
      "|tt0001812|    movie|         Oedipus Rex|         Oedipus Rex|      0|     1911|     \\N|            56|               Drama|\n",
      "|tt0001892|    movie|      Den sorte drøm|      Den sorte drøm|      0|     1911|     \\N|            53|               Drama|\n",
      "+---------+---------+--------------------+--------------------+-------+---------+-------+--------------+--------------------+\n",
      "only showing top 10 rows\n",
      "\n"
     ]
    }
   ],
   "source": [
    "df_titles.filter((col('titleType') == 'movie') & (col('runtimeMinutes') < 90)).show(10)"
   ]
  },
  {
   "cell_type": "code",
   "execution_count": null,
   "metadata": {},
   "outputs": [
    {
     "name": "stdout",
     "output_type": "stream",
     "text": [
      "+---------+---------+--------------------+--------------------+-------+---------+-------+--------------+--------------------+\n",
      "|   tconst|titleType|        primaryTitle|       originalTitle|isAdult|startYear|endYear|runtimeMinutes|              genres|\n",
      "+---------+---------+--------------------+--------------------+-------+---------+-------+--------------+--------------------+\n",
      "|tt0034639|    movie|        The Avengers|   The Day Will Dawn|      0|     1942|     \\N|            98|           Drama,War|\n",
      "|tt0036194|    movie|The People's Aven...|   Narodnye mstiteli|      0|     1943|     \\N|            55|     Documentary,War|\n",
      "|tt0058651|    movie|  The Three Avengers| Gli invincibili tre|      0|     1964|     \\N|           101|Action,Adventure,...|\n",
      "|tt0069746|    movie|Avengers of the Reef|Avengers of the Reef|      0|     1973|     \\N|            84|    Adventure,Family|\n",
      "|tt0074513|    movie|The Shaolin Avengers|Fang Shi Yu yu Hu...|      0|     1976|     \\N|            97|        Action,Drama|\n",
      "|tt0077292|    movie|   Crippled Avengers|             Can que|      0|     1978|     \\N|           104|        Action,Drama|\n",
      "|tt0079110|    movie|      Three Avengers|          Da chu tou|      0|     1979|     \\N|            86|        Action,Drama|\n",
      "|tt0082153|    movie| The Masked Avengers|            Cha shou|      0|     1981|     \\N|            92|        Action,Drama|\n",
      "|tt0118661|    movie|        The Avengers|        The Avengers|      0|     1998|     \\N|            89|Action,Adventure,...|\n",
      "|tt0167779|    movie|        The Avengers|        The Avengers|      0|     1950|     \\N|            90|           Adventure|\n",
      "+---------+---------+--------------------+--------------------+-------+---------+-------+--------------+--------------------+\n",
      "only showing top 10 rows\n",
      "\n"
     ]
    }
   ],
   "source": [
    "df_titles.filter((col('titleType') == 'movie') & (col('primaryTitle').like('%Avengers%'))).show(10)"
   ]
  },
  {
   "cell_type": "markdown",
   "metadata": {},
   "source": [
    "## Ordenação de Data Frame"
   ]
  },
  {
   "cell_type": "code",
   "execution_count": null,
   "metadata": {},
   "outputs": [
    {
     "name": "stdout",
     "output_type": "stream",
     "text": [
      "+----------+---------+--------------------+--------------------+-------+---------+-------+--------------+-----------------+\n",
      "|    tconst|titleType|        primaryTitle|       originalTitle|isAdult|startYear|endYear|runtimeMinutes|           genres|\n",
      "+----------+---------+--------------------+--------------------+-------+---------+-------+--------------+-----------------+\n",
      "| tt3155794|    short|    Passage de Venus|    Passage de Venus|      0|     1874|     \\N|             1|Documentary,Short|\n",
      "|tt14495706|    short|   La Rosace Magique|   La Rosace Magique|      0|     1877|     \\N|             1|  Animation,Short|\n",
      "| tt2221420|    short|Sallie Gardner at...|Sallie Gardner at...|      0|     1878|     \\N|             1|Documentary,Short|\n",
      "|tt12592084|    short|   Le singe musicien|   Le singe musicien|      0|     1878|     \\N|             1|  Animation,Short|\n",
      "|tt15320514|    short|   Skeleton of Horse|   Skeleton of Horse|      0|     1881|     \\N|             1|  Animation,Short|\n",
      "| tt7816420|    short|Athlete Swinging ...|Athlete Swinging ...|      0|     1881|     \\N|             1|Documentary,Short|\n",
      "|tt15245006|    short|The 1882 Transit ...|The 1882 Transit ...|      0|     1882|     \\N|             1|Documentary,Short|\n",
      "| tt5459794|    short|     Buffalo Running|     Buffalo Running|      0|     1883|     \\N|             1|Documentary,Short|\n",
      "| tt8588366|    short|     L'homme machine|     L'homme machine|      0|     1885|     \\N|             1|  Animation,Short|\n",
      "| tt7839330|    short|Woman Pouring fro...|Woman Pouring fro...|      0|     1887|     \\N|             1|            Short|\n",
      "+----------+---------+--------------------+--------------------+-------+---------+-------+--------------+-----------------+\n",
      "only showing top 10 rows\n",
      "\n"
     ]
    }
   ],
   "source": [
    "df_titles.orderBy('startYear').show(10)"
   ]
  },
  {
   "cell_type": "code",
   "execution_count": null,
   "metadata": {},
   "outputs": [
    {
     "name": "stdout",
     "output_type": "stream",
     "text": [
      "+----------+---------+--------------------+--------------------+-------+---------+-------+--------------+--------------------+\n",
      "|    tconst|titleType|        primaryTitle|       originalTitle|isAdult|startYear|endYear|runtimeMinutes|              genres|\n",
      "+----------+---------+--------------------+--------------------+-------+---------+-------+--------------+--------------------+\n",
      "|tt13907072|    movie|Skyscraper on an ...|Skyscraper on an ...|      0|     2028|     \\N|            \\N|    Adventure,Sci-Fi|\n",
      "|tt12072406|tvEpisode|              Hunter|              Hunter|      0|     2028|     \\N|            \\N| Action,Comedy,Drama|\n",
      "| tt5637536|    movie|            Avatar 5|            Avatar 5|      0|     2028|     \\N|            \\N|Action,Adventure,...|\n",
      "| tt9317988|    short| Space: The Traveler| Space: The Traveler|      0|     2027|     \\N|            30|        Sci-Fi,Short|\n",
      "|tt15144960|    movie|    Time Wars: WWIII|    Time Wars: WWIII|      0|     2027|     \\N|            \\N|              Sci-Fi|\n",
      "|tt10951670|    movie|Another Word from...|Another Word from...|      0|     2027|     \\N|            \\N|         Documentary|\n",
      "|tt13297818|    movie|Skyscraper on an ...|Skyscraper on an ...|      0|     2027|     \\N|            \\N|Adventure,Drama,S...|\n",
      "|tt15465392|    short|       Maroon by Day|       Maroon by Day|      0|     2027|     \\N|            30|Drama,Short,Thriller|\n",
      "|tt15060386|    movie|        Old Nick III|          Old Nick 3|      0|     2027|     \\N|           360|            Thriller|\n",
      "|tt11638348|    short|     The competition|     The competition|      0|     2027|     \\N|            \\N|         Drama,Short|\n",
      "+----------+---------+--------------------+--------------------+-------+---------+-------+--------------+--------------------+\n",
      "only showing top 10 rows\n",
      "\n"
     ]
    }
   ],
   "source": [
    "df_titles.orderBy(desc(col('startYear').cast('Int'))).show(10)"
   ]
  },
  {
   "cell_type": "code",
   "execution_count": null,
   "metadata": {},
   "outputs": [
    {
     "name": "stdout",
     "output_type": "stream",
     "text": [
      "+----------+---------+--------------------+--------------------+-------+---------+-------+--------------+-----------------+\n",
      "|    tconst|titleType|        primaryTitle|       originalTitle|isAdult|startYear|endYear|runtimeMinutes|           genres|\n",
      "+----------+---------+--------------------+--------------------+-------+---------+-------+--------------+-----------------+\n",
      "| tt3155794|    short|    Passage de Venus|    Passage de Venus|      0|     1874|     \\N|             1|Documentary,Short|\n",
      "|tt14495706|    short|   La Rosace Magique|   La Rosace Magique|      0|     1877|     \\N|             1|  Animation,Short|\n",
      "|tt12592084|    short|   Le singe musicien|   Le singe musicien|      0|     1878|     \\N|             1|  Animation,Short|\n",
      "| tt2221420|    short|Sallie Gardner at...|Sallie Gardner at...|      0|     1878|     \\N|             1|Documentary,Short|\n",
      "|tt15320514|    short|   Skeleton of Horse|   Skeleton of Horse|      0|     1881|     \\N|             1|  Animation,Short|\n",
      "| tt7816420|    short|Athlete Swinging ...|Athlete Swinging ...|      0|     1881|     \\N|             1|Documentary,Short|\n",
      "|tt15245006|    short|The 1882 Transit ...|The 1882 Transit ...|      0|     1882|     \\N|             1|Documentary,Short|\n",
      "| tt5459794|    short|     Buffalo Running|     Buffalo Running|      0|     1883|     \\N|             1|Documentary,Short|\n",
      "| tt8588366|    short|     L'homme machine|     L'homme machine|      0|     1885|     \\N|             1|  Animation,Short|\n",
      "| tt7839330|    short|Woman Pouring fro...|Woman Pouring fro...|      0|     1887|     \\N|             1|            Short|\n",
      "+----------+---------+--------------------+--------------------+-------+---------+-------+--------------+-----------------+\n",
      "only showing top 10 rows\n",
      "\n"
     ]
    }
   ],
   "source": [
    "df_titles\\\n",
    "    .withColumn('startYear', col('startYear').cast('Int'))\\\n",
    "    .orderBy(asc_nulls_last('startYear'))\\\n",
    "    .show(10)"
   ]
  },
  {
   "cell_type": "markdown",
   "metadata": {},
   "source": [
    "## Renomeando Colunas"
   ]
  },
  {
   "cell_type": "code",
   "execution_count": null,
   "metadata": {},
   "outputs": [
    {
     "name": "stdout",
     "output_type": "stream",
     "text": [
      "+---------+---------+--------------------+--------------------+-------+---------+-------+--------------+--------------------+\n",
      "|   tconst|titleType|          nome_filme|       originalTitle|isAdult|startYear|endYear|runtimeMinutes|              genres|\n",
      "+---------+---------+--------------------+--------------------+-------+---------+-------+--------------+--------------------+\n",
      "|tt0000001|    short|          Carmencita|          Carmencita|      0|     1894|     \\N|             1|   Documentary,Short|\n",
      "|tt0000002|    short|Le clown et ses c...|Le clown et ses c...|      0|     1892|     \\N|             5|     Animation,Short|\n",
      "|tt0000003|    short|      Pauvre Pierrot|      Pauvre Pierrot|      0|     1892|     \\N|             4|Animation,Comedy,...|\n",
      "|tt0000004|    short|         Un bon bock|         Un bon bock|      0|     1892|     \\N|            12|     Animation,Short|\n",
      "|tt0000005|    short|    Blacksmith Scene|    Blacksmith Scene|      0|     1893|     \\N|             1|        Comedy,Short|\n",
      "|tt0000006|    short|   Chinese Opium Den|   Chinese Opium Den|      0|     1894|     \\N|             1|               Short|\n",
      "|tt0000007|    short|Corbett and Court...|Corbett and Court...|      0|     1894|     \\N|             1|         Short,Sport|\n",
      "|tt0000008|    short|Edison Kinetoscop...|Edison Kinetoscop...|      0|     1894|     \\N|             1|   Documentary,Short|\n",
      "|tt0000009|    short|          Miss Jerry|          Miss Jerry|      0|     1894|     \\N|            40|       Romance,Short|\n",
      "|tt0000010|    short| Leaving the Factory|La sortie de l'us...|      0|     1895|     \\N|             1|   Documentary,Short|\n",
      "+---------+---------+--------------------+--------------------+-------+---------+-------+--------------+--------------------+\n",
      "only showing top 10 rows\n",
      "\n"
     ]
    }
   ],
   "source": [
    "df_titles.withColumnRenamed('primaryTitle', 'nome_filme').show(10)"
   ]
  },
  {
   "cell_type": "code",
   "execution_count": null,
   "metadata": {},
   "outputs": [
    {
     "data": {
      "text/html": [
       "<div>\n",
       "<style scoped>\n",
       "    .dataframe tbody tr th:only-of-type {\n",
       "        vertical-align: middle;\n",
       "    }\n",
       "\n",
       "    .dataframe tbody tr th {\n",
       "        vertical-align: top;\n",
       "    }\n",
       "\n",
       "    .dataframe thead th {\n",
       "        text-align: right;\n",
       "    }\n",
       "</style>\n",
       "<table border=\"1\" class=\"dataframe\">\n",
       "  <thead>\n",
       "    <tr style=\"text-align: right;\">\n",
       "      <th></th>\n",
       "      <th>tconst_suffix</th>\n",
       "      <th>titleType_suffix</th>\n",
       "      <th>primaryTitle_suffix</th>\n",
       "      <th>originalTitle_suffix</th>\n",
       "      <th>isAdult_suffix</th>\n",
       "      <th>startYear_suffix</th>\n",
       "      <th>endYear_suffix</th>\n",
       "      <th>runtimeMinutes_suffix</th>\n",
       "      <th>genres_suffix</th>\n",
       "    </tr>\n",
       "  </thead>\n",
       "  <tbody>\n",
       "    <tr>\n",
       "      <th>0</th>\n",
       "      <td>tt0000001</td>\n",
       "      <td>short</td>\n",
       "      <td>Carmencita</td>\n",
       "      <td>Carmencita</td>\n",
       "      <td>0</td>\n",
       "      <td>1894</td>\n",
       "      <td>\\N</td>\n",
       "      <td>1</td>\n",
       "      <td>Documentary,Short</td>\n",
       "    </tr>\n",
       "    <tr>\n",
       "      <th>1</th>\n",
       "      <td>tt0000002</td>\n",
       "      <td>short</td>\n",
       "      <td>Le clown et ses chiens</td>\n",
       "      <td>Le clown et ses chiens</td>\n",
       "      <td>0</td>\n",
       "      <td>1892</td>\n",
       "      <td>\\N</td>\n",
       "      <td>5</td>\n",
       "      <td>Animation,Short</td>\n",
       "    </tr>\n",
       "    <tr>\n",
       "      <th>2</th>\n",
       "      <td>tt0000003</td>\n",
       "      <td>short</td>\n",
       "      <td>Pauvre Pierrot</td>\n",
       "      <td>Pauvre Pierrot</td>\n",
       "      <td>0</td>\n",
       "      <td>1892</td>\n",
       "      <td>\\N</td>\n",
       "      <td>4</td>\n",
       "      <td>Animation,Comedy,Romance</td>\n",
       "    </tr>\n",
       "    <tr>\n",
       "      <th>3</th>\n",
       "      <td>tt0000004</td>\n",
       "      <td>short</td>\n",
       "      <td>Un bon bock</td>\n",
       "      <td>Un bon bock</td>\n",
       "      <td>0</td>\n",
       "      <td>1892</td>\n",
       "      <td>\\N</td>\n",
       "      <td>12</td>\n",
       "      <td>Animation,Short</td>\n",
       "    </tr>\n",
       "    <tr>\n",
       "      <th>4</th>\n",
       "      <td>tt0000005</td>\n",
       "      <td>short</td>\n",
       "      <td>Blacksmith Scene</td>\n",
       "      <td>Blacksmith Scene</td>\n",
       "      <td>0</td>\n",
       "      <td>1893</td>\n",
       "      <td>\\N</td>\n",
       "      <td>1</td>\n",
       "      <td>Comedy,Short</td>\n",
       "    </tr>\n",
       "    <tr>\n",
       "      <th>5</th>\n",
       "      <td>tt0000006</td>\n",
       "      <td>short</td>\n",
       "      <td>Chinese Opium Den</td>\n",
       "      <td>Chinese Opium Den</td>\n",
       "      <td>0</td>\n",
       "      <td>1894</td>\n",
       "      <td>\\N</td>\n",
       "      <td>1</td>\n",
       "      <td>Short</td>\n",
       "    </tr>\n",
       "    <tr>\n",
       "      <th>6</th>\n",
       "      <td>tt0000007</td>\n",
       "      <td>short</td>\n",
       "      <td>Corbett and Courtney Before the Kinetograph</td>\n",
       "      <td>Corbett and Courtney Before the Kinetograph</td>\n",
       "      <td>0</td>\n",
       "      <td>1894</td>\n",
       "      <td>\\N</td>\n",
       "      <td>1</td>\n",
       "      <td>Short,Sport</td>\n",
       "    </tr>\n",
       "    <tr>\n",
       "      <th>7</th>\n",
       "      <td>tt0000008</td>\n",
       "      <td>short</td>\n",
       "      <td>Edison Kinetoscopic Record of a Sneeze</td>\n",
       "      <td>Edison Kinetoscopic Record of a Sneeze</td>\n",
       "      <td>0</td>\n",
       "      <td>1894</td>\n",
       "      <td>\\N</td>\n",
       "      <td>1</td>\n",
       "      <td>Documentary,Short</td>\n",
       "    </tr>\n",
       "    <tr>\n",
       "      <th>8</th>\n",
       "      <td>tt0000009</td>\n",
       "      <td>short</td>\n",
       "      <td>Miss Jerry</td>\n",
       "      <td>Miss Jerry</td>\n",
       "      <td>0</td>\n",
       "      <td>1894</td>\n",
       "      <td>\\N</td>\n",
       "      <td>40</td>\n",
       "      <td>Romance,Short</td>\n",
       "    </tr>\n",
       "    <tr>\n",
       "      <th>9</th>\n",
       "      <td>tt0000010</td>\n",
       "      <td>short</td>\n",
       "      <td>Leaving the Factory</td>\n",
       "      <td>La sortie de l'usine Lumière à Lyon</td>\n",
       "      <td>0</td>\n",
       "      <td>1895</td>\n",
       "      <td>\\N</td>\n",
       "      <td>1</td>\n",
       "      <td>Documentary,Short</td>\n",
       "    </tr>\n",
       "  </tbody>\n",
       "</table>\n",
       "</div>"
      ],
      "text/plain": [
       "  tconst_suffix titleType_suffix                          primaryTitle_suffix  \\\n",
       "0     tt0000001            short                                   Carmencita   \n",
       "1     tt0000002            short                       Le clown et ses chiens   \n",
       "2     tt0000003            short                               Pauvre Pierrot   \n",
       "3     tt0000004            short                                  Un bon bock   \n",
       "4     tt0000005            short                             Blacksmith Scene   \n",
       "5     tt0000006            short                            Chinese Opium Den   \n",
       "6     tt0000007            short  Corbett and Courtney Before the Kinetograph   \n",
       "7     tt0000008            short       Edison Kinetoscopic Record of a Sneeze   \n",
       "8     tt0000009            short                                   Miss Jerry   \n",
       "9     tt0000010            short                          Leaving the Factory   \n",
       "\n",
       "                          originalTitle_suffix isAdult_suffix  \\\n",
       "0                                   Carmencita              0   \n",
       "1                       Le clown et ses chiens              0   \n",
       "2                               Pauvre Pierrot              0   \n",
       "3                                  Un bon bock              0   \n",
       "4                             Blacksmith Scene              0   \n",
       "5                            Chinese Opium Den              0   \n",
       "6  Corbett and Courtney Before the Kinetograph              0   \n",
       "7       Edison Kinetoscopic Record of a Sneeze              0   \n",
       "8                                   Miss Jerry              0   \n",
       "9          La sortie de l'usine Lumière à Lyon              0   \n",
       "\n",
       "  startYear_suffix endYear_suffix runtimeMinutes_suffix  \\\n",
       "0             1894             \\N                     1   \n",
       "1             1892             \\N                     5   \n",
       "2             1892             \\N                     4   \n",
       "3             1892             \\N                    12   \n",
       "4             1893             \\N                     1   \n",
       "5             1894             \\N                     1   \n",
       "6             1894             \\N                     1   \n",
       "7             1894             \\N                     1   \n",
       "8             1894             \\N                    40   \n",
       "9             1895             \\N                     1   \n",
       "\n",
       "              genres_suffix  \n",
       "0         Documentary,Short  \n",
       "1           Animation,Short  \n",
       "2  Animation,Comedy,Romance  \n",
       "3           Animation,Short  \n",
       "4              Comedy,Short  \n",
       "5                     Short  \n",
       "6               Short,Sport  \n",
       "7         Documentary,Short  \n",
       "8             Romance,Short  \n",
       "9         Documentary,Short  "
      ]
     },
     "execution_count": 101,
     "metadata": {},
     "output_type": "execute_result"
    }
   ],
   "source": [
    "df_renamed = df_titles\n",
    "\n",
    "for c in df_titles.columns:\n",
    "    df_renamed = df_renamed.withColumnRenamed(c, c + '_suffix')\n",
    "\n",
    "df_renamed.limit(10).toPandas()"
   ]
  },
  {
   "cell_type": "markdown",
   "metadata": {},
   "source": [
    "## Criando e Alterando Colunas"
   ]
  },
  {
   "cell_type": "code",
   "execution_count": null,
   "metadata": {},
   "outputs": [
    {
     "name": "stdout",
     "output_type": "stream",
     "text": [
      "+---------+--------------------+--------------+-----------+----------------+\n",
      "|   tconst|        primaryTitle|runtimeMinutes|runtimeHour|runtimeHoursPlus|\n",
      "+---------+--------------------+--------------+-----------+----------------+\n",
      "|tt0000001|          Carmencita|             1|      0.017|           2.017|\n",
      "|tt0000002|Le clown et ses c...|             5|      0.083|           2.083|\n",
      "|tt0000003|      Pauvre Pierrot|             4|      0.067|           2.067|\n",
      "|tt0000004|         Un bon bock|            12|        0.2|             2.2|\n",
      "|tt0000005|    Blacksmith Scene|             1|      0.017|           2.017|\n",
      "+---------+--------------------+--------------+-----------+----------------+\n",
      "only showing top 5 rows\n",
      "\n"
     ]
    }
   ],
   "source": [
    "df_titles.select('tconst', 'primaryTitle', 'runtimeMinutes')\\\n",
    "         .withColumn('runtimeHour', round(col('runtimeMinutes').cast('Int') / 60, 3))\\\n",
    "         .withColumn('runtimeHoursPlus', col('runtimeHour') + 2)\\\n",
    "         .show(5)"
   ]
  },
  {
   "cell_type": "code",
   "execution_count": null,
   "metadata": {},
   "outputs": [
    {
     "name": "stdout",
     "output_type": "stream",
     "text": [
      "+---------+---------+--------------------+--------------------+-------+---------+-------+--------------+--------------------+------+\n",
      "|   tconst|titleType|        primaryTitle|       originalTitle|isAdult|startYear|endYear|runtimeMinutes|              genres|  Pais|\n",
      "+---------+---------+--------------------+--------------------+-------+---------+-------+--------------+--------------------+------+\n",
      "|tt0000001|    short|          Carmencita|          Carmencita|      0|     1894|     \\N|             1|   Documentary,Short|Brasil|\n",
      "|tt0000002|    short|Le clown et ses c...|Le clown et ses c...|      0|     1892|     \\N|             5|     Animation,Short|Brasil|\n",
      "|tt0000003|    short|      Pauvre Pierrot|      Pauvre Pierrot|      0|     1892|     \\N|             4|Animation,Comedy,...|Brasil|\n",
      "|tt0000004|    short|         Un bon bock|         Un bon bock|      0|     1892|     \\N|            12|     Animation,Short|Brasil|\n",
      "|tt0000005|    short|    Blacksmith Scene|    Blacksmith Scene|      0|     1893|     \\N|             1|        Comedy,Short|Brasil|\n",
      "|tt0000006|    short|   Chinese Opium Den|   Chinese Opium Den|      0|     1894|     \\N|             1|               Short|Brasil|\n",
      "|tt0000007|    short|Corbett and Court...|Corbett and Court...|      0|     1894|     \\N|             1|         Short,Sport|Brasil|\n",
      "|tt0000008|    short|Edison Kinetoscop...|Edison Kinetoscop...|      0|     1894|     \\N|             1|   Documentary,Short|Brasil|\n",
      "|tt0000009|    short|          Miss Jerry|          Miss Jerry|      0|     1894|     \\N|            40|       Romance,Short|Brasil|\n",
      "|tt0000010|    short| Leaving the Factory|La sortie de l'us...|      0|     1895|     \\N|             1|   Documentary,Short|Brasil|\n",
      "+---------+---------+--------------------+--------------------+-------+---------+-------+--------------+--------------------+------+\n",
      "only showing top 10 rows\n",
      "\n"
     ]
    }
   ],
   "source": [
    "# Criando coluna constante (valor fixo)\n",
    "df_titles.withColumn('Pais', lit('Brasil')).show(10)"
   ]
  },
  {
   "cell_type": "code",
   "execution_count": null,
   "metadata": {},
   "outputs": [
    {
     "name": "stdout",
     "output_type": "stream",
     "text": [
      "+---------+--------------------+--------------+-----------------+\n",
      "|   tconst|        primaryTitle|runtimeMinutes|categoria_runtime|\n",
      "+---------+--------------------+--------------+-----------------+\n",
      "|tt0000502|            Bohemios|           100|            longo|\n",
      "|tt0000574|The Story of the ...|            70|           normal|\n",
      "|tt0000591|    The Prodigal Son|            90|            outro|\n",
      "|tt0000679|The Fairylogue an...|           120|            longo|\n",
      "|tt0001756|Lucha por la here...|            92|            longo|\n",
      "|tt0002026|Anny - Story of a...|            68|           normal|\n",
      "|tt0002101|           Cleopatra|           100|            longo|\n",
      "|tt0002130|     Dante's Inferno|            71|           normal|\n",
      "|tt0002315|El lobo de la sierra|            76|           normal|\n",
      "|tt0002423|             Passion|            85|           normal|\n",
      "+---------+--------------------+--------------+-----------------+\n",
      "only showing top 10 rows\n",
      "\n"
     ]
    }
   ],
   "source": [
    "# Criando coluna condicional (CASE WHEN)\n",
    "df_titles\\\n",
    "    .select('tconst', 'primaryTitle', 'runtimeMinutes')\\\n",
    "    .withColumn('runtimeMinutes', col('runtimeMinutes').cast('Int'))\\\n",
    "    .withColumn('categoria_runtime', when(col('runtimeMinutes') <= 60, 'curto')\n",
    "                                    .when((col('runtimeMinutes') > 60) & (col('runtimeMinutes') < 90), 'normal')\n",
    "                                    .when(col('runtimeMinutes') > 90, 'longo')\n",
    "                                    .when(col('runtimeMinutes').isNull(), 'vazio')\n",
    "                                    .otherwise('outro'))\\\n",
    "    .filter(col('runtimeMinutes') > 60)\\\n",
    "    .show(10)"
   ]
  },
  {
   "cell_type": "code",
   "execution_count": null,
   "metadata": {},
   "outputs": [],
   "source": [
    "import pyspark.sql.functions as f"
   ]
  },
  {
   "cell_type": "markdown",
   "metadata": {},
   "source": [
    "## Agregação de Data Frame"
   ]
  },
  {
   "cell_type": "code",
   "execution_count": null,
   "metadata": {},
   "outputs": [],
   "source": [
    "df_title_subset = df_titles.filter('cast(startYear as Int) >= 2000')\\\n",
    "                           .sample(fraction = 0.5)\\\n",
    "                           .withColumn('genre', f.split('genres', ',').getItem(0))"
   ]
  },
  {
   "cell_type": "code",
   "execution_count": null,
   "metadata": {},
   "outputs": [
    {
     "data": {
      "text/plain": [
       "2749574"
      ]
     },
     "execution_count": 129,
     "metadata": {},
     "output_type": "execute_result"
    }
   ],
   "source": [
    "df_title_subset.count()"
   ]
  },
  {
   "cell_type": "code",
   "execution_count": null,
   "metadata": {},
   "outputs": [
    {
     "name": "stdout",
     "output_type": "stream",
     "text": [
      "+---------------+\n",
      "|Genre_Distintos|\n",
      "+---------------+\n",
      "|           1989|\n",
      "+---------------+\n",
      "\n"
     ]
    }
   ],
   "source": [
    "df_title_subset\\\n",
    "    .agg(f.countDistinct('genres').alias('Genre_Distintos'))\\\n",
    "    .show()"
   ]
  },
  {
   "cell_type": "code",
   "execution_count": null,
   "metadata": {},
   "outputs": [
    {
     "name": "stdout",
     "output_type": "stream",
     "text": [
      "+--------------------+\n",
      "|Total_RuntimeMinutes|\n",
      "+--------------------+\n",
      "|         3.4333306E7|\n",
      "+--------------------+\n",
      "\n"
     ]
    }
   ],
   "source": [
    "df_title_subset\\\n",
    "    .agg(f.sum('runtimeMinutes').alias('Total_RuntimeMinutes'))\\\n",
    "    .show()"
   ]
  },
  {
   "cell_type": "code",
   "execution_count": null,
   "metadata": {},
   "outputs": [
    {
     "name": "stdout",
     "output_type": "stream",
     "text": [
      "+--------+-----------------+-----+---+\n",
      "|     Sum|             Mean|  Max|Min|\n",
      "+--------+-----------------+-----+---+\n",
      "|34333306|40.67141772382822|43200|  0|\n",
      "+--------+-----------------+-----+---+\n",
      "\n"
     ]
    }
   ],
   "source": [
    "df_title_subset\\\n",
    "    .withColumn('runtimeMinutes', f.col('runtimeMinutes').cast('Int'))\\\n",
    "    .agg(f.sum('runtimeMinutes').alias('Sum'),\n",
    "         f.mean('runtimeMinutes').alias('Mean'),\n",
    "         f.max('runtimeMinutes').alias('Max'),\n",
    "         f.min('runtimeMinutes').alias('Min')\n",
    "    )\\\n",
    "    .show(10)"
   ]
  },
  {
   "cell_type": "code",
   "execution_count": null,
   "metadata": {},
   "outputs": [
    {
     "name": "stdout",
     "output_type": "stream",
     "text": [
      "+-----------+------+\n",
      "|      genre| count|\n",
      "+-----------+------+\n",
      "|      Crime| 75145|\n",
      "|    Romance| 28457|\n",
      "|   Thriller|  8467|\n",
      "|  Adventure| 60987|\n",
      "|         \\N|183217|\n",
      "|      Drama|463087|\n",
      "|        War|   557|\n",
      "|Documentary|243415|\n",
      "| Reality-TV|122041|\n",
      "|     Family| 59319|\n",
      "|    Fantasy| 14143|\n",
      "|  Game-Show| 59926|\n",
      "|      Adult|111317|\n",
      "|    History|  9634|\n",
      "|    Mystery|  8776|\n",
      "|    Musical|  5170|\n",
      "|  Animation| 87001|\n",
      "|      Music| 77019|\n",
      "|      Short| 72540|\n",
      "|     Horror| 30222|\n",
      "+-----------+------+\n",
      "only showing top 20 rows\n",
      "\n"
     ]
    }
   ],
   "source": [
    "df_title_subset\\\n",
    "    .groupBy('genre')\\\n",
    "    .count()\\\n",
    "    .show()"
   ]
  },
  {
   "cell_type": "code",
   "execution_count": null,
   "metadata": {},
   "outputs": [
    {
     "name": "stdout",
     "output_type": "stream",
     "text": [
      "+---------+------------------+\n",
      "|    genre|              Mean|\n",
      "+---------+------------------+\n",
      "|    Adult| 96.40659249418798|\n",
      "|      War| 83.13422818791946|\n",
      "|    Sport| 80.51137884872824|\n",
      "| Thriller| 77.62358276643991|\n",
      "|  Western| 68.44444444444444|\n",
      "|     News|55.453895323080815|\n",
      "|       \\N| 55.04858299595141|\n",
      "|    Crime| 49.87259919130655|\n",
      "|Biography|49.202232311766934|\n",
      "|Talk-Show| 48.83925518925519|\n",
      "+---------+------------------+\n",
      "only showing top 10 rows\n",
      "\n"
     ]
    }
   ],
   "source": [
    "df_title_subset\\\n",
    "    .groupBy('genre')\\\n",
    "    .agg(f.mean('runtimeMinutes').alias('Mean'))\\\n",
    "    .orderBy(f.col('Mean').desc())\\\n",
    "    .show(10)"
   ]
  },
  {
   "cell_type": "code",
   "execution_count": null,
   "metadata": {},
   "outputs": [
    {
     "name": "stdout",
     "output_type": "stream",
     "text": [
      "+---------+---------+------------------+\n",
      "|    genre|startYear|              Mean|\n",
      "+---------+---------+------------------+\n",
      "|    Sport|     2021|112.19928825622776|\n",
      "|      War|     2021| 88.77777777777777|\n",
      "| Thriller|     2021| 84.85204081632654|\n",
      "|  Western|     2021|            78.625|\n",
      "|Biography|     2021| 69.30563798219585|\n",
      "|    Adult|     2021| 67.32492581602374|\n",
      "|     News|     2021|  62.6272952853598|\n",
      "|       \\N|     2021| 59.68868703550785|\n",
      "|Game-Show|     2021|54.536502546689306|\n",
      "|Adventure|     2021| 53.26246334310851|\n",
      "+---------+---------+------------------+\n",
      "only showing top 10 rows\n",
      "\n"
     ]
    }
   ],
   "source": [
    "df_title_subset\\\n",
    "    .groupBy('genre', 'startYear')\\\n",
    "    .agg(f.mean('runtimeMinutes').alias('Mean'))\\\n",
    "    .orderBy(f.col('Mean').desc())\\\n",
    "    .filter(f.col('startYear') == '2021')\\\n",
    "    .show(10)"
   ]
  }
 ],
 "metadata": {
  "interpreter": {
   "hash": "31f2aee4e71d21fbe5cf8b01ff0e069b9275f58929596ceb00d14d90e3e16cd6"
  },
  "kernelspec": {
   "display_name": "Python 3.8.10 64-bit",
   "name": "python3"
  },
  "language_info": {
   "codemirror_mode": {
    "name": "ipython",
    "version": 3
   },
   "file_extension": ".py",
   "mimetype": "text/x-python",
   "name": "python",
   "nbconvert_exporter": "python",
   "pygments_lexer": "ipython3",
   "version": "3.8.10"
  },
  "orig_nbformat": 4
 },
 "nbformat": 4,
 "nbformat_minor": 2
}
