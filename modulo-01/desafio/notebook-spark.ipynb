{
 "cells": [
  {
   "cell_type": "code",
   "execution_count": 1,
   "id": "7aaf30ee",
   "metadata": {},
   "outputs": [
    {
     "data": {
      "application/vnd.jupyter.widget-view+json": {
       "model_id": "fcb9314e6bc04576b8a5806d8516f512",
       "version_major": 2,
       "version_minor": 0
      },
      "text/plain": [
       "VBox()"
      ]
     },
     "metadata": {},
     "output_type": "display_data"
    },
    {
     "name": "stdout",
     "output_type": "stream",
     "text": [
      "Starting Spark application\n"
     ]
    },
    {
     "data": {
      "text/html": [
       "<table>\n",
       "<tr><th>ID</th><th>YARN Application ID</th><th>Kind</th><th>State</th><th>Spark UI</th><th>Driver log</th><th>Current session?</th></tr><tr><td>0</td><td>application_1633805473748_0003</td><td>pyspark</td><td>idle</td><td><a target=\"_blank\" href=\"http://ip-172-31-64-200.ec2.internal:20888/proxy/application_1633805473748_0003/\">Link</a></td><td><a target=\"_blank\" href=\"http://ip-172-31-77-71.ec2.internal:8042/node/containerlogs/container_1633805473748_0003_01_000001/livy\">Link</a></td><td>✔</td></tr></table>"
      ],
      "text/plain": [
       "<IPython.core.display.HTML object>"
      ]
     },
     "metadata": {},
     "output_type": "display_data"
    },
    {
     "data": {
      "application/vnd.jupyter.widget-view+json": {
       "model_id": "",
       "version_major": 2,
       "version_minor": 0
      },
      "text/plain": [
       "FloatProgress(value=0.0, bar_style='info', description='Progress:', layout=Layout(height='25px', width='50%'),…"
      ]
     },
     "metadata": {},
     "output_type": "display_data"
    },
    {
     "name": "stdout",
     "output_type": "stream",
     "text": [
      "SparkSession available as 'spark'.\n"
     ]
    },
    {
     "data": {
      "application/vnd.jupyter.widget-view+json": {
       "model_id": "",
       "version_major": 2,
       "version_minor": 0
      },
      "text/plain": [
       "FloatProgress(value=0.0, bar_style='info', description='Progress:', layout=Layout(height='25px', width='50%'),…"
      ]
     },
     "metadata": {},
     "output_type": "display_data"
    }
   ],
   "source": [
    "import pyspark"
   ]
  },
  {
   "cell_type": "code",
   "execution_count": 2,
   "id": "9f3f0e06",
   "metadata": {},
   "outputs": [
    {
     "data": {
      "application/vnd.jupyter.widget-view+json": {
       "model_id": "86171ea8991e41c380153f9e2f0fb537",
       "version_major": 2,
       "version_minor": 0
      },
      "text/plain": [
       "VBox()"
      ]
     },
     "metadata": {},
     "output_type": "display_data"
    },
    {
     "data": {
      "application/vnd.jupyter.widget-view+json": {
       "model_id": "",
       "version_major": 2,
       "version_minor": 0
      },
      "text/plain": [
       "FloatProgress(value=0.0, bar_style='info', description='Progress:', layout=Layout(height='25px', width='50%'),…"
      ]
     },
     "metadata": {},
     "output_type": "display_data"
    }
   ],
   "source": [
    "# ler dados do censo no S3\n",
    "censo = spark.read\\\n",
    "        .format('parquet')\\\n",
    "        .load('s3://datalake-roncato-igti-edc-tf/staging/censo/')"
   ]
  },
  {
   "cell_type": "code",
   "execution_count": 18,
   "id": "4ca793e0",
   "metadata": {},
   "outputs": [
    {
     "data": {
      "application/vnd.jupyter.widget-view+json": {
       "model_id": "6b8ecf9375b94f3cbb1410ebe111ee56",
       "version_major": 2,
       "version_minor": 0
      },
      "text/plain": [
       "VBox()"
      ]
     },
     "metadata": {},
     "output_type": "display_data"
    },
    {
     "data": {
      "application/vnd.jupyter.widget-view+json": {
       "model_id": "",
       "version_major": 2,
       "version_minor": 0
      },
      "text/plain": [
       "FloatProgress(value=0.0, bar_style='info', description='Progress:', layout=Layout(height='25px', width='50%'),…"
      ]
     },
     "metadata": {},
     "output_type": "display_data"
    },
    {
     "name": "stdout",
     "output_type": "stream",
     "text": [
      "root\n",
      " |-- NU_ANO_CENSO: integer (nullable = true)\n",
      " |-- ID_ALUNO: string (nullable = true)\n",
      " |-- ID_MATRICULA: integer (nullable = true)\n",
      " |-- NU_MES: integer (nullable = true)\n",
      " |-- NU_ANO: integer (nullable = true)\n",
      " |-- NU_IDADE_REFERENCIA: integer (nullable = true)\n",
      " |-- NU_IDADE: integer (nullable = true)\n",
      " |-- TP_SEXO: integer (nullable = true)\n",
      " |-- TP_COR_RACA: integer (nullable = true)\n",
      " |-- TP_NACIONALIDADE: integer (nullable = true)\n",
      " |-- CO_PAIS_ORIGEM: integer (nullable = true)\n",
      " |-- CO_UF_NASC: integer (nullable = true)\n",
      " |-- CO_MUNICIPIO_NASC: integer (nullable = true)\n",
      " |-- CO_UF_END: integer (nullable = true)\n",
      " |-- CO_MUNICIPIO_END: integer (nullable = true)\n",
      " |-- TP_ZONA_RESIDENCIAL: integer (nullable = true)\n",
      " |-- TP_LOCAL_RESID_DIFERENCIADA: integer (nullable = true)\n",
      " |-- IN_NECESSIDADE_ESPECIAL: integer (nullable = true)\n",
      " |-- IN_BAIXA_VISAO: integer (nullable = true)\n",
      " |-- IN_CEGUEIRA: integer (nullable = true)\n",
      " |-- IN_DEF_AUDITIVA: integer (nullable = true)\n",
      " |-- IN_DEF_FISICA: integer (nullable = true)\n",
      " |-- IN_DEF_INTELECTUAL: integer (nullable = true)\n",
      " |-- IN_SURDEZ: integer (nullable = true)\n",
      " |-- IN_SURDOCEGUEIRA: integer (nullable = true)\n",
      " |-- IN_DEF_MULTIPLA: integer (nullable = true)\n",
      " |-- IN_AUTISMO: integer (nullable = true)\n",
      " |-- IN_SUPERDOTACAO: integer (nullable = true)\n",
      " |-- IN_RECURSO_LEDOR: integer (nullable = true)\n",
      " |-- IN_RECURSO_TRANSCRICAO: integer (nullable = true)\n",
      " |-- IN_RECURSO_INTERPRETE: integer (nullable = true)\n",
      " |-- IN_RECURSO_LIBRAS: integer (nullable = true)\n",
      " |-- IN_RECURSO_LABIAL: integer (nullable = true)\n",
      " |-- IN_RECURSO_AMPLIADA_18: integer (nullable = true)\n",
      " |-- IN_RECURSO_AMPLIADA_24: integer (nullable = true)\n",
      " |-- IN_RECURSO_CD_AUDIO: integer (nullable = true)\n",
      " |-- IN_RECURSO_PROVA_PORTUGUES: integer (nullable = true)\n",
      " |-- IN_RECURSO_VIDEO_LIBRAS: integer (nullable = true)\n",
      " |-- IN_RECURSO_BRAILLE: integer (nullable = true)\n",
      " |-- IN_RECURSO_NENHUM: integer (nullable = true)\n",
      " |-- IN_AEE_LIBRAS: integer (nullable = true)\n",
      " |-- IN_AEE_LINGUA_PORTUGUESA: integer (nullable = true)\n",
      " |-- IN_AEE_INFORMATICA_ACESSIVEL: integer (nullable = true)\n",
      " |-- IN_AEE_BRAILLE: integer (nullable = true)\n",
      " |-- IN_AEE_CAA: integer (nullable = true)\n",
      " |-- IN_AEE_SOROBAN: integer (nullable = true)\n",
      " |-- IN_AEE_VIDA_AUTONOMA: integer (nullable = true)\n",
      " |-- IN_AEE_OPTICOS_NAO_OPTICOS: integer (nullable = true)\n",
      " |-- IN_AEE_ENRIQ_CURRICULAR: integer (nullable = true)\n",
      " |-- IN_AEE_DESEN_COGNITIVO: integer (nullable = true)\n",
      " |-- IN_AEE_MOBILIDADE: integer (nullable = true)\n",
      " |-- TP_OUTRO_LOCAL_AULA: integer (nullable = true)\n",
      " |-- IN_TRANSPORTE_PUBLICO: integer (nullable = true)\n",
      " |-- TP_RESPONSAVEL_TRANSPORTE: integer (nullable = true)\n",
      " |-- IN_TRANSP_BICICLETA: integer (nullable = true)\n",
      " |-- IN_TRANSP_MICRO_ONIBUS: integer (nullable = true)\n",
      " |-- IN_TRANSP_ONIBUS: integer (nullable = true)\n",
      " |-- IN_TRANSP_TR_ANIMAL: integer (nullable = true)\n",
      " |-- IN_TRANSP_VANS_KOMBI: integer (nullable = true)\n",
      " |-- IN_TRANSP_OUTRO_VEICULO: integer (nullable = true)\n",
      " |-- IN_TRANSP_EMBAR_ATE5: integer (nullable = true)\n",
      " |-- IN_TRANSP_EMBAR_5A15: integer (nullable = true)\n",
      " |-- IN_TRANSP_EMBAR_15A35: integer (nullable = true)\n",
      " |-- IN_TRANSP_EMBAR_35: integer (nullable = true)\n",
      " |-- TP_ETAPA_ENSINO: integer (nullable = true)\n",
      " |-- IN_ESPECIAL_EXCLUSIVA: integer (nullable = true)\n",
      " |-- IN_REGULAR: integer (nullable = true)\n",
      " |-- IN_EJA: integer (nullable = true)\n",
      " |-- IN_PROFISSIONALIZANTE: integer (nullable = true)\n",
      " |-- ID_TURMA: integer (nullable = true)\n",
      " |-- CO_CURSO_EDUC_PROFISSIONAL: integer (nullable = true)\n",
      " |-- TP_MEDIACAO_DIDATICO_PEDAGO: integer (nullable = true)\n",
      " |-- NU_DURACAO_TURMA: integer (nullable = true)\n",
      " |-- NU_DUR_ATIV_COMP_MESMA_REDE: integer (nullable = true)\n",
      " |-- NU_DUR_ATIV_COMP_OUTRAS_REDES: integer (nullable = true)\n",
      " |-- NU_DUR_AEE_MESMA_REDE: integer (nullable = true)\n",
      " |-- NU_DUR_AEE_OUTRAS_REDES: integer (nullable = true)\n",
      " |-- NU_DIAS_ATIVIDADE: integer (nullable = true)\n",
      " |-- TP_UNIFICADA: integer (nullable = true)\n",
      " |-- TP_TIPO_ATENDIMENTO_TURMA: integer (nullable = true)\n",
      " |-- TP_TIPO_LOCAL_TURMA: integer (nullable = true)\n",
      " |-- CO_ENTIDADE: integer (nullable = true)\n",
      " |-- CO_REGIAO: integer (nullable = true)\n",
      " |-- CO_MESORREGIAO: integer (nullable = true)\n",
      " |-- CO_MICRORREGIAO: integer (nullable = true)\n",
      " |-- CO_UF: integer (nullable = true)\n",
      " |-- CO_MUNICIPIO: integer (nullable = true)\n",
      " |-- CO_DISTRITO: integer (nullable = true)\n",
      " |-- TP_DEPENDENCIA: integer (nullable = true)\n",
      " |-- TP_LOCALIZACAO: integer (nullable = true)\n",
      " |-- TP_CATEGORIA_ESCOLA_PRIVADA: integer (nullable = true)\n",
      " |-- IN_CONVENIADA_PP: integer (nullable = true)\n",
      " |-- TP_CONVENIO_PODER_PUBLICO: integer (nullable = true)\n",
      " |-- IN_MANT_ESCOLA_PRIVADA_EMP: integer (nullable = true)\n",
      " |-- IN_MANT_ESCOLA_PRIVADA_ONG: integer (nullable = true)\n",
      " |-- IN_MANT_ESCOLA_PRIVADA_OSCIP: integer (nullable = true)\n",
      " |-- IN_MANT_ESCOLA_PRIV_ONG_OSCIP: integer (nullable = true)\n",
      " |-- IN_MANT_ESCOLA_PRIVADA_SIND: integer (nullable = true)\n",
      " |-- IN_MANT_ESCOLA_PRIVADA_SIST_S: integer (nullable = true)\n",
      " |-- IN_MANT_ESCOLA_PRIVADA_S_FINS: integer (nullable = true)\n",
      " |-- TP_REGULAMENTACAO: integer (nullable = true)\n",
      " |-- TP_LOCALIZACAO_DIFERENCIADA: integer (nullable = true)\n",
      " |-- IN_EDUCACAO_INDIGENA: integer (nullable = true)"
     ]
    }
   ],
   "source": [
    "censo.printSchema()"
   ]
  },
  {
   "cell_type": "code",
   "execution_count": 13,
   "id": "eefd0f3b",
   "metadata": {},
   "outputs": [
    {
     "data": {
      "application/vnd.jupyter.widget-view+json": {
       "model_id": "5b59c8302dfb43018cfcf42d41759846",
       "version_major": 2,
       "version_minor": 0
      },
      "text/plain": [
       "VBox()"
      ]
     },
     "metadata": {},
     "output_type": "display_data"
    },
    {
     "data": {
      "application/vnd.jupyter.widget-view+json": {
       "model_id": "",
       "version_major": 2,
       "version_minor": 0
      },
      "text/plain": [
       "FloatProgress(value=0.0, bar_style='info', description='Progress:', layout=Layout(height='25px', width='50%'),…"
      ]
     },
     "metadata": {},
     "output_type": "display_data"
    }
   ],
   "source": [
    "# criando engine sql para o censo\n",
    "censo.createOrReplaceTempView(\"censo\")"
   ]
  },
  {
   "cell_type": "code",
   "execution_count": 15,
   "id": "f17ac5e6",
   "metadata": {},
   "outputs": [
    {
     "data": {
      "application/vnd.jupyter.widget-view+json": {
       "model_id": "1540c0f570854a3b83e048c244a51f20",
       "version_major": 2,
       "version_minor": 0
      },
      "text/plain": [
       "VBox()"
      ]
     },
     "metadata": {},
     "output_type": "display_data"
    },
    {
     "data": {
      "application/vnd.jupyter.widget-view+json": {
       "model_id": "",
       "version_major": 2,
       "version_minor": 0
      },
      "text/plain": [
       "FloatProgress(value=0.0, bar_style='info', description='Progress:', layout=Layout(height='25px', width='50%'),…"
      ]
     },
     "metadata": {},
     "output_type": "display_data"
    },
    {
     "name": "stdout",
     "output_type": "stream",
     "text": [
      "+-----+--------+\n",
      "|CO_UF|count(1)|\n",
      "+-----+--------+\n",
      "|   35|10399931|\n",
      "|   31| 4494458|\n",
      "|   33| 3617974|\n",
      "|   29| 3507272|\n",
      "|   41| 2731721|\n",
      "|   23| 2377672|\n",
      "|   43| 2377005|\n",
      "|   15| 2309261|\n",
      "|   26| 2248002|\n",
      "|   21| 2094724|\n",
      "|   42| 1716964|\n",
      "|   52| 1509671|\n",
      "|   13| 1173846|\n",
      "|   25|  977977|\n",
      "|   32|  915822|\n",
      "|   22|  882072|\n",
      "|   51|  871484|\n",
      "|   27|  867722|\n",
      "|   24|  826043|\n",
      "|   53|  724465|\n",
      "+-----+--------+\n",
      "only showing top 20 rows"
     ]
    }
   ],
   "source": [
    "# questão 1\n",
    "spark.sql(\n",
    "        \"\"\"\n",
    "        SELECT CO_UF, COUNT(1)\n",
    "          FROM censo u\n",
    "      GROUP BY CO_UF\n",
    "        ORDER BY 2 DESC\n",
    "        \"\"\"\n",
    "    ).show()"
   ]
  },
  {
   "cell_type": "code",
   "execution_count": 16,
   "id": "484ccac3",
   "metadata": {},
   "outputs": [
    {
     "data": {
      "application/vnd.jupyter.widget-view+json": {
       "model_id": "fb502db52a49439d9c6741a2e942ca3d",
       "version_major": 2,
       "version_minor": 0
      },
      "text/plain": [
       "VBox()"
      ]
     },
     "metadata": {},
     "output_type": "display_data"
    },
    {
     "data": {
      "application/vnd.jupyter.widget-view+json": {
       "model_id": "",
       "version_major": 2,
       "version_minor": 0
      },
      "text/plain": [
       "FloatProgress(value=0.0, bar_style='info', description='Progress:', layout=Layout(height='25px', width='50%'),…"
      ]
     },
     "metadata": {},
     "output_type": "display_data"
    },
    {
     "name": "stdout",
     "output_type": "stream",
     "text": [
      "+--------+\n",
      "|count(1)|\n",
      "+--------+\n",
      "|  556054|\n",
      "+--------+"
     ]
    }
   ],
   "source": [
    "# questão 2\n",
    "spark.sql(\n",
    "        \"\"\"\n",
    "        SELECT COUNT(1)\n",
    "          FROM censo u\n",
    "         WHERE CO_UF = 31 \n",
    "           AND tp_zona_residencial = 2\n",
    "        \"\"\"\n",
    "    ).show()"
   ]
  },
  {
   "cell_type": "code",
   "execution_count": 17,
   "id": "9b526e2e",
   "metadata": {},
   "outputs": [
    {
     "data": {
      "application/vnd.jupyter.widget-view+json": {
       "model_id": "9088100660934454a5f449cc64e85c18",
       "version_major": 2,
       "version_minor": 0
      },
      "text/plain": [
       "VBox()"
      ]
     },
     "metadata": {},
     "output_type": "display_data"
    },
    {
     "data": {
      "application/vnd.jupyter.widget-view+json": {
       "model_id": "",
       "version_major": 2,
       "version_minor": 0
      },
      "text/plain": [
       "FloatProgress(value=0.0, bar_style='info', description='Progress:', layout=Layout(height='25px', width='50%'),…"
      ]
     },
     "metadata": {},
     "output_type": "display_data"
    },
    {
     "name": "stdout",
     "output_type": "stream",
     "text": [
      "+--------+\n",
      "|count(1)|\n",
      "+--------+\n",
      "| 9905267|\n",
      "+--------+"
     ]
    }
   ],
   "source": [
    "# questão 3\n",
    "spark.sql(\n",
    "        \"\"\"\n",
    "        SELECT COUNT(1)\n",
    "          FROM censo u\n",
    "         WHERE CO_UF = 35\n",
    "           AND tp_zona_residencial = 1\n",
    "        \"\"\"\n",
    "    ).show()"
   ]
  },
  {
   "cell_type": "code",
   "execution_count": 19,
   "id": "0bad8540",
   "metadata": {},
   "outputs": [
    {
     "data": {
      "application/vnd.jupyter.widget-view+json": {
       "model_id": "bceafc873cee48e190cf436a8f083714",
       "version_major": 2,
       "version_minor": 0
      },
      "text/plain": [
       "VBox()"
      ]
     },
     "metadata": {},
     "output_type": "display_data"
    },
    {
     "data": {
      "application/vnd.jupyter.widget-view+json": {
       "model_id": "",
       "version_major": 2,
       "version_minor": 0
      },
      "text/plain": [
       "FloatProgress(value=0.0, bar_style='info', description='Progress:', layout=Layout(height='25px', width='50%'),…"
      ]
     },
     "metadata": {},
     "output_type": "display_data"
    },
    {
     "name": "stdout",
     "output_type": "stream",
     "text": [
      "+--------+\n",
      "|count(1)|\n",
      "+--------+\n",
      "|    9326|\n",
      "+--------+"
     ]
    }
   ],
   "source": [
    "# questão 4\n",
    "spark.sql(\n",
    "        \"\"\"\n",
    "        SELECT COUNT(1)\n",
    "          FROM censo u\n",
    "         WHERE CO_UF = 32\n",
    "           AND TP_SEXO = 1\n",
    "           AND IN_AUTISMO = 1\n",
    "        \"\"\"\n",
    "    ).show()"
   ]
  },
  {
   "cell_type": "code",
   "execution_count": 21,
   "id": "9fa166a8",
   "metadata": {},
   "outputs": [
    {
     "data": {
      "application/vnd.jupyter.widget-view+json": {
       "model_id": "a61363bfebf34ac4af9578359340ae2c",
       "version_major": 2,
       "version_minor": 0
      },
      "text/plain": [
       "VBox()"
      ]
     },
     "metadata": {},
     "output_type": "display_data"
    },
    {
     "data": {
      "application/vnd.jupyter.widget-view+json": {
       "model_id": "",
       "version_major": 2,
       "version_minor": 0
      },
      "text/plain": [
       "FloatProgress(value=0.0, bar_style='info', description='Progress:', layout=Layout(height='25px', width='50%'),…"
      ]
     },
     "metadata": {},
     "output_type": "display_data"
    },
    {
     "name": "stdout",
     "output_type": "stream",
     "text": [
      "+-----+--------+\n",
      "|CO_UF|count(1)|\n",
      "+-----+--------+\n",
      "|   35|     718|\n",
      "|   33|     523|\n",
      "|   31|     401|\n",
      "|   29|     395|\n",
      "|   43|     335|\n",
      "|   41|     293|\n",
      "|   15|     292|\n",
      "|   21|     206|\n",
      "|   52|     197|\n",
      "|   23|     194|\n",
      "|   26|     171|\n",
      "|   42|     143|\n",
      "|   25|     141|\n",
      "|   24|     121|\n",
      "|   51|      90|\n",
      "|   22|      88|\n",
      "|   53|      87|\n",
      "|   32|      86|\n",
      "|   13|      84|\n",
      "|   50|      83|\n",
      "+-----+--------+\n",
      "only showing top 20 rows"
     ]
    }
   ],
   "source": [
    "# questão 5\n",
    "spark.sql(\n",
    "        \"\"\"\n",
    "        SELECT CO_UF, COUNT(1)\n",
    "          FROM censo u\n",
    "         WHERE TP_SEXO = 2\n",
    "           AND IN_CEGUEIRA = 1\n",
    "      GROUP BY CO_UF\n",
    "      ORDER BY 2 DESC\n",
    "        \"\"\"\n",
    "    ).show()"
   ]
  },
  {
   "cell_type": "code",
   "execution_count": 22,
   "id": "1eed0008",
   "metadata": {},
   "outputs": [
    {
     "data": {
      "application/vnd.jupyter.widget-view+json": {
       "model_id": "bbed96efe4a1452d8f8425aecedc2a57",
       "version_major": 2,
       "version_minor": 0
      },
      "text/plain": [
       "VBox()"
      ]
     },
     "metadata": {},
     "output_type": "display_data"
    },
    {
     "data": {
      "application/vnd.jupyter.widget-view+json": {
       "model_id": "",
       "version_major": 2,
       "version_minor": 0
      },
      "text/plain": [
       "FloatProgress(value=0.0, bar_style='info', description='Progress:', layout=Layout(height='25px', width='50%'),…"
      ]
     },
     "metadata": {},
     "output_type": "display_data"
    },
    {
     "name": "stdout",
     "output_type": "stream",
     "text": [
      "+-----+--------+\n",
      "|CO_UF|count(1)|\n",
      "+-----+--------+\n",
      "|   35|    3007|\n",
      "|   31|    1117|\n",
      "|   41|    1012|\n",
      "|   29|     962|\n",
      "|   15|     870|\n",
      "|   26|     780|\n",
      "|   43|     695|\n",
      "|   23|     665|\n",
      "|   21|     618|\n",
      "|   33|     585|\n",
      "|   52|     531|\n",
      "|   42|     523|\n",
      "|   25|     388|\n",
      "|   13|     378|\n",
      "|   27|     336|\n",
      "|   24|     305|\n",
      "|   22|     270|\n",
      "|   32|     246|\n",
      "|   51|     201|\n",
      "|   50|     192|\n",
      "+-----+--------+\n",
      "only showing top 20 rows"
     ]
    }
   ],
   "source": [
    "# questão 6\n",
    "spark.sql(\n",
    "        \"\"\"\n",
    "        SELECT CO_UF, COUNT(1)\n",
    "          FROM censo u\n",
    "         WHERE TP_SEXO = 2\n",
    "           AND IN_SURDEZ = 1\n",
    "      GROUP BY CO_UF\n",
    "      ORDER BY 2 DESC\n",
    "        \"\"\"\n",
    "    ).show()"
   ]
  },
  {
   "cell_type": "code",
   "execution_count": 23,
   "id": "d15e6d6d",
   "metadata": {},
   "outputs": [
    {
     "data": {
      "application/vnd.jupyter.widget-view+json": {
       "model_id": "148da4f1ef2d42759d6beed4ea1bf98b",
       "version_major": 2,
       "version_minor": 0
      },
      "text/plain": [
       "VBox()"
      ]
     },
     "metadata": {},
     "output_type": "display_data"
    },
    {
     "data": {
      "application/vnd.jupyter.widget-view+json": {
       "model_id": "",
       "version_major": 2,
       "version_minor": 0
      },
      "text/plain": [
       "FloatProgress(value=0.0, bar_style='info', description='Progress:', layout=Layout(height='25px', width='50%'),…"
      ]
     },
     "metadata": {},
     "output_type": "display_data"
    },
    {
     "name": "stdout",
     "output_type": "stream",
     "text": [
      "+-----+--------+\n",
      "|CO_UF|count(1)|\n",
      "+-----+--------+\n",
      "|   14|   10327|\n",
      "|   16|   11517|\n",
      "|   12|   14720|\n",
      "|   17|   24929|\n",
      "|   11|   25961|\n",
      "|   28|   29053|\n",
      "|   50|   36966|\n",
      "|   24|   40235|\n",
      "|   53|   42052|\n",
      "|   22|   44331|\n",
      "|   27|   45269|\n",
      "|   32|   47447|\n",
      "|   25|   51321|\n",
      "|   51|   51948|\n",
      "|   13|   65816|\n",
      "|   42|   89842|\n",
      "|   52|   94122|\n",
      "|   21|  111014|\n",
      "|   23|  122388|\n",
      "|   43|  125677|\n",
      "+-----+--------+\n",
      "only showing top 20 rows"
     ]
    }
   ],
   "source": [
    "# questão 7\n",
    "spark.sql(\n",
    "        \"\"\"\n",
    "        SELECT CO_UF, COUNT(1)\n",
    "          FROM censo u\n",
    "         WHERE tp_etapa_ensino = 41\n",
    "      GROUP BY CO_UF\n",
    "      ORDER BY 2 ASC\n",
    "        \"\"\"\n",
    "    ).show()"
   ]
  }
 ],
 "metadata": {
  "kernelspec": {
   "display_name": "PySpark",
   "language": "",
   "name": "pysparkkernel"
  },
  "language_info": {
   "codemirror_mode": {
    "name": "python",
    "version": 2
   },
   "mimetype": "text/x-python",
   "name": "pyspark",
   "pygments_lexer": "python2"
  }
 },
 "nbformat": 4,
 "nbformat_minor": 5
}
